{
  "nbformat": 4,
  "nbformat_minor": 0,
  "metadata": {
    "accelerator": "GPU",
    "colab": {
      "provenance": [],
      "gpuType": "V100",
      "include_colab_link": true
    },
    "kernelspec": {
      "display_name": "Python 3",
      "name": "python3"
    },
    "gpuClass": "standard"
  },
  "cells": [
    {
      "cell_type": "markdown",
      "metadata": {
        "id": "view-in-github",
        "colab_type": "text"
      },
      "source": [
        "<a href=\"https://colab.research.google.com/github/GaryBall/CSML_notes/blob/master/heterograph_learning.ipynb\" target=\"_parent\"><img src=\"https://colab.research.google.com/assets/colab-badge.svg\" alt=\"Open In Colab\"/></a>"
      ]
    },
    {
      "cell_type": "code",
      "source": [
        "# mount the google drive to colab\n",
        "from google.colab import drive\n",
        "drive.mount('/content/gdrive/')"
      ],
      "metadata": {
        "colab": {
          "base_uri": "https://localhost:8080/"
        },
        "id": "r0YeI-TqptCv",
        "outputId": "cc9ec76e-12de-42a6-9f0c-4a35b581e972"
      },
      "execution_count": null,
      "outputs": [
        {
          "output_type": "stream",
          "name": "stdout",
          "text": [
            "Drive already mounted at /content/gdrive/; to attempt to forcibly remount, call drive.mount(\"/content/gdrive/\", force_remount=True).\n"
          ]
        }
      ]
    },
    {
      "cell_type": "code",
      "source": [
        "import torch\n",
        "device = torch.device(\"cuda:0\" if torch.cuda.is_available() else \"cpu\")\n",
        "print(torch.__version__)\n",
        "print(torch.version.cuda)"
      ],
      "metadata": {
        "colab": {
          "base_uri": "https://localhost:8080/"
        },
        "id": "HIugSBZApzSk",
        "outputId": "8e4f7f32-ca27-488e-b988-3b04cdaa054d"
      },
      "execution_count": null,
      "outputs": [
        {
          "output_type": "stream",
          "name": "stdout",
          "text": [
            "2.0.0+cu118\n",
            "11.8\n"
          ]
        }
      ]
    },
    {
      "cell_type": "code",
      "source": [
        "!pip install torch_geometric\n",
        "!pip install pyg_lib torch_scatter torch_sparse torch_cluster torch_spline_conv -f https://data.pyg.org/whl/torch-2.0.0+cu118.html\n",
        "!pip install rdkit\n",
        "!pip install hydra-core wandb hydra-core ray ray-lightning torchmetrics overrides imageio"
      ],
      "metadata": {
        "colab": {
          "base_uri": "https://localhost:8080/"
        },
        "id": "lIUV8oebq9kh",
        "outputId": "117208e0-961f-48e3-997a-948f2c92d720"
      },
      "execution_count": null,
      "outputs": [
        {
          "output_type": "stream",
          "name": "stdout",
          "text": [
            "Looking in indexes: https://pypi.org/simple, https://us-python.pkg.dev/colab-wheels/public/simple/\n",
            "Collecting torch_geometric\n",
            "  Downloading torch_geometric-2.3.1.tar.gz (661 kB)\n",
            "\u001b[2K     \u001b[90m━━━━━━━━━━━━━━━━━━━━━━━━━━━━━━━━━━━━━━\u001b[0m \u001b[32m661.6/661.6 kB\u001b[0m \u001b[31m25.6 MB/s\u001b[0m eta \u001b[36m0:00:00\u001b[0m\n",
            "\u001b[?25h  Installing build dependencies ... \u001b[?25l\u001b[?25hdone\n",
            "  Getting requirements to build wheel ... \u001b[?25l\u001b[?25hdone\n",
            "  Preparing metadata (pyproject.toml) ... \u001b[?25l\u001b[?25hdone\n",
            "Requirement already satisfied: tqdm in /usr/local/lib/python3.10/dist-packages (from torch_geometric) (4.65.0)\n",
            "Requirement already satisfied: jinja2 in /usr/local/lib/python3.10/dist-packages (from torch_geometric) (3.1.2)\n",
            "Requirement already satisfied: requests in /usr/local/lib/python3.10/dist-packages (from torch_geometric) (2.27.1)\n",
            "Requirement already satisfied: pyparsing in /usr/local/lib/python3.10/dist-packages (from torch_geometric) (3.0.9)\n",
            "Requirement already satisfied: scipy in /usr/local/lib/python3.10/dist-packages (from torch_geometric) (1.10.1)\n",
            "Requirement already satisfied: numpy in /usr/local/lib/python3.10/dist-packages (from torch_geometric) (1.22.4)\n",
            "Requirement already satisfied: psutil>=5.8.0 in /usr/local/lib/python3.10/dist-packages (from torch_geometric) (5.9.5)\n",
            "Requirement already satisfied: scikit-learn in /usr/local/lib/python3.10/dist-packages (from torch_geometric) (1.2.2)\n",
            "Requirement already satisfied: MarkupSafe>=2.0 in /usr/local/lib/python3.10/dist-packages (from jinja2->torch_geometric) (2.1.2)\n",
            "Requirement already satisfied: certifi>=2017.4.17 in /usr/local/lib/python3.10/dist-packages (from requests->torch_geometric) (2022.12.7)\n",
            "Requirement already satisfied: urllib3<1.27,>=1.21.1 in /usr/local/lib/python3.10/dist-packages (from requests->torch_geometric) (1.26.15)\n",
            "Requirement already satisfied: charset-normalizer~=2.0.0 in /usr/local/lib/python3.10/dist-packages (from requests->torch_geometric) (2.0.12)\n",
            "Requirement already satisfied: idna<4,>=2.5 in /usr/local/lib/python3.10/dist-packages (from requests->torch_geometric) (3.4)\n",
            "Requirement already satisfied: threadpoolctl>=2.0.0 in /usr/local/lib/python3.10/dist-packages (from scikit-learn->torch_geometric) (3.1.0)\n",
            "Requirement already satisfied: joblib>=1.1.1 in /usr/local/lib/python3.10/dist-packages (from scikit-learn->torch_geometric) (1.2.0)\n",
            "Building wheels for collected packages: torch_geometric\n",
            "  Building wheel for torch_geometric (pyproject.toml) ... \u001b[?25l\u001b[?25hdone\n",
            "  Created wheel for torch_geometric: filename=torch_geometric-2.3.1-py3-none-any.whl size=910476 sha256=88bf9178175dcb4902391f4b8213e4fac96b9aa3d2c186890ab5edfdd8a45fae\n",
            "  Stored in directory: /root/.cache/pip/wheels/ac/dc/30/e2874821ff308ee67dcd7a66dbde912411e19e35a1addda028\n",
            "Successfully built torch_geometric\n",
            "Installing collected packages: torch_geometric\n",
            "Successfully installed torch_geometric-2.3.1\n",
            "Looking in indexes: https://pypi.org/simple, https://us-python.pkg.dev/colab-wheels/public/simple/\n",
            "Looking in links: https://data.pyg.org/whl/torch-2.0.0+cu118.html\n",
            "Collecting pyg_lib\n",
            "  Downloading https://data.pyg.org/whl/torch-2.0.0%2Bcu118/pyg_lib-0.2.0%2Bpt20cu118-cp310-cp310-linux_x86_64.whl (1.8 MB)\n",
            "\u001b[2K     \u001b[90m━━━━━━━━━━━━━━━━━━━━━━━━━━━━━━━━━━━━━━━━\u001b[0m \u001b[32m1.8/1.8 MB\u001b[0m \u001b[31m22.6 MB/s\u001b[0m eta \u001b[36m0:00:00\u001b[0m\n",
            "\u001b[?25hCollecting torch_scatter\n",
            "  Downloading https://data.pyg.org/whl/torch-2.0.0%2Bcu118/torch_scatter-2.1.1%2Bpt20cu118-cp310-cp310-linux_x86_64.whl (10.2 MB)\n",
            "\u001b[2K     \u001b[90m━━━━━━━━━━━━━━━━━━━━━━━━━━━━━━━━━━━━━━━━\u001b[0m \u001b[32m10.2/10.2 MB\u001b[0m \u001b[31m48.0 MB/s\u001b[0m eta \u001b[36m0:00:00\u001b[0m\n",
            "\u001b[?25hCollecting torch_sparse\n",
            "  Downloading https://data.pyg.org/whl/torch-2.0.0%2Bcu118/torch_sparse-0.6.17%2Bpt20cu118-cp310-cp310-linux_x86_64.whl (4.8 MB)\n",
            "\u001b[2K     \u001b[90m━━━━━━━━━━━━━━━━━━━━━━━━━━━━━━━━━━━━━━━━\u001b[0m \u001b[32m4.8/4.8 MB\u001b[0m \u001b[31m54.6 MB/s\u001b[0m eta \u001b[36m0:00:00\u001b[0m\n",
            "\u001b[?25hCollecting torch_cluster\n",
            "  Downloading https://data.pyg.org/whl/torch-2.0.0%2Bcu118/torch_cluster-1.6.1%2Bpt20cu118-cp310-cp310-linux_x86_64.whl (3.3 MB)\n",
            "\u001b[2K     \u001b[90m━━━━━━━━━━━━━━━━━━━━━━━━━━━━━━━━━━━━━━━━\u001b[0m \u001b[32m3.3/3.3 MB\u001b[0m \u001b[31m36.9 MB/s\u001b[0m eta \u001b[36m0:00:00\u001b[0m\n",
            "\u001b[?25hCollecting torch_spline_conv\n",
            "  Downloading https://data.pyg.org/whl/torch-2.0.0%2Bcu118/torch_spline_conv-1.2.2%2Bpt20cu118-cp310-cp310-linux_x86_64.whl (884 kB)\n",
            "\u001b[2K     \u001b[90m━━━━━━━━━━━━━━━━━━━━━━━━━━━━━━━━━━━━━━\u001b[0m \u001b[32m884.9/884.9 kB\u001b[0m \u001b[31m60.1 MB/s\u001b[0m eta \u001b[36m0:00:00\u001b[0m\n",
            "\u001b[?25hRequirement already satisfied: scipy in /usr/local/lib/python3.10/dist-packages (from torch_sparse) (1.10.1)\n",
            "Requirement already satisfied: numpy<1.27.0,>=1.19.5 in /usr/local/lib/python3.10/dist-packages (from scipy->torch_sparse) (1.22.4)\n",
            "Installing collected packages: torch_spline_conv, torch_scatter, pyg_lib, torch_sparse, torch_cluster\n",
            "Successfully installed pyg_lib-0.2.0+pt20cu118 torch_cluster-1.6.1+pt20cu118 torch_scatter-2.1.1+pt20cu118 torch_sparse-0.6.17+pt20cu118 torch_spline_conv-1.2.2+pt20cu118\n",
            "Looking in indexes: https://pypi.org/simple, https://us-python.pkg.dev/colab-wheels/public/simple/\n",
            "Collecting rdkit\n",
            "  Downloading rdkit-2022.9.5-cp310-cp310-manylinux_2_17_x86_64.manylinux2014_x86_64.whl (29.4 MB)\n",
            "\u001b[2K     \u001b[90m━━━━━━━━━━━━━━━━━━━━━━━━━━━━━━━━━━━━━━━━\u001b[0m \u001b[32m29.4/29.4 MB\u001b[0m \u001b[31m54.5 MB/s\u001b[0m eta \u001b[36m0:00:00\u001b[0m\n",
            "\u001b[?25hRequirement already satisfied: Pillow in /usr/local/lib/python3.10/dist-packages (from rdkit) (8.4.0)\n",
            "Requirement already satisfied: numpy in /usr/local/lib/python3.10/dist-packages (from rdkit) (1.22.4)\n",
            "Installing collected packages: rdkit\n",
            "Successfully installed rdkit-2022.9.5\n",
            "Looking in indexes: https://pypi.org/simple, https://us-python.pkg.dev/colab-wheels/public/simple/\n",
            "Collecting hydra-core\n",
            "  Downloading hydra_core-1.3.2-py3-none-any.whl (154 kB)\n",
            "\u001b[2K     \u001b[90m━━━━━━━━━━━━━━━━━━━━━━━━━━━━━━━━━━━━━━━\u001b[0m \u001b[32m154.5/154.5 kB\u001b[0m \u001b[31m8.7 MB/s\u001b[0m eta \u001b[36m0:00:00\u001b[0m\n",
            "\u001b[?25hCollecting wandb\n",
            "  Downloading wandb-0.15.0-py3-none-any.whl (2.0 MB)\n",
            "\u001b[2K     \u001b[90m━━━━━━━━━━━━━━━━━━━━━━━━━━━━━━━━━━━━━━━━\u001b[0m \u001b[32m2.0/2.0 MB\u001b[0m \u001b[31m75.1 MB/s\u001b[0m eta \u001b[36m0:00:00\u001b[0m\n",
            "\u001b[?25hCollecting ray\n",
            "  Downloading ray-2.4.0-cp310-cp310-manylinux2014_x86_64.whl (58.6 MB)\n",
            "\u001b[2K     \u001b[90m━━━━━━━━━━━━━━━━━━━━━━━━━━━━━━━━━━━━━━━━\u001b[0m \u001b[32m58.6/58.6 MB\u001b[0m \u001b[31m14.7 MB/s\u001b[0m eta \u001b[36m0:00:00\u001b[0m\n",
            "\u001b[?25hCollecting ray-lightning\n",
            "  Downloading ray_lightning-0.3.0-py3-none-any.whl (50 kB)\n",
            "\u001b[2K     \u001b[90m━━━━━━━━━━━━━━━━━━━━━━━━━━━━━━━━━━━━━━━━\u001b[0m \u001b[32m50.8/50.8 kB\u001b[0m \u001b[31m7.0 MB/s\u001b[0m eta \u001b[36m0:00:00\u001b[0m\n",
            "\u001b[?25hCollecting torchmetrics\n",
            "  Downloading torchmetrics-0.11.4-py3-none-any.whl (519 kB)\n",
            "\u001b[2K     \u001b[90m━━━━━━━━━━━━━━━━━━━━━━━━━━━━━━━━━━━━━━\u001b[0m \u001b[32m519.2/519.2 kB\u001b[0m \u001b[31m36.1 MB/s\u001b[0m eta \u001b[36m0:00:00\u001b[0m\n",
            "\u001b[?25hCollecting overrides\n",
            "  Downloading overrides-7.3.1-py3-none-any.whl (17 kB)\n",
            "Requirement already satisfied: imageio in /usr/local/lib/python3.10/dist-packages (2.25.1)\n",
            "Collecting antlr4-python3-runtime==4.9.*\n",
            "  Downloading antlr4-python3-runtime-4.9.3.tar.gz (117 kB)\n",
            "\u001b[2K     \u001b[90m━━━━━━━━━━━━━━━━━━━━━━━━━━━━━━━━━━━━━━\u001b[0m \u001b[32m117.0/117.0 kB\u001b[0m \u001b[31m16.5 MB/s\u001b[0m eta \u001b[36m0:00:00\u001b[0m\n",
            "\u001b[?25h  Preparing metadata (setup.py) ... \u001b[?25l\u001b[?25hdone\n",
            "Collecting omegaconf<2.4,>=2.2\n",
            "  Downloading omegaconf-2.3.0-py3-none-any.whl (79 kB)\n",
            "\u001b[2K     \u001b[90m━━━━━━━━━━━━━━━━━━━━━━━━━━━━━━━━━━━━━━━━\u001b[0m \u001b[32m79.5/79.5 kB\u001b[0m \u001b[31m12.0 MB/s\u001b[0m eta \u001b[36m0:00:00\u001b[0m\n",
            "\u001b[?25hRequirement already satisfied: packaging in /usr/local/lib/python3.10/dist-packages (from hydra-core) (23.1)\n",
            "Requirement already satisfied: requests<3,>=2.0.0 in /usr/local/lib/python3.10/dist-packages (from wandb) (2.27.1)\n",
            "Collecting setproctitle\n",
            "  Downloading setproctitle-1.3.2-cp310-cp310-manylinux_2_5_x86_64.manylinux1_x86_64.manylinux_2_17_x86_64.manylinux2014_x86_64.whl (30 kB)\n",
            "Collecting GitPython!=3.1.29,>=1.0.0\n",
            "  Downloading GitPython-3.1.31-py3-none-any.whl (184 kB)\n",
            "\u001b[2K     \u001b[90m━━━━━━━━━━━━━━━━━━━━━━━━━━━━━━━━━━━━━━\u001b[0m \u001b[32m184.3/184.3 kB\u001b[0m \u001b[31m24.4 MB/s\u001b[0m eta \u001b[36m0:00:00\u001b[0m\n",
            "\u001b[?25hRequirement already satisfied: psutil>=5.0.0 in /usr/local/lib/python3.10/dist-packages (from wandb) (5.9.5)\n",
            "Requirement already satisfied: appdirs>=1.4.3 in /usr/local/lib/python3.10/dist-packages (from wandb) (1.4.4)\n",
            "Requirement already satisfied: protobuf!=4.21.0,<5,>=3.19.0 in /usr/local/lib/python3.10/dist-packages (from wandb) (3.20.3)\n",
            "Requirement already satisfied: Click!=8.0.0,>=7.0 in /usr/local/lib/python3.10/dist-packages (from wandb) (8.1.3)\n",
            "Requirement already satisfied: PyYAML in /usr/local/lib/python3.10/dist-packages (from wandb) (6.0)\n",
            "Requirement already satisfied: setuptools in /usr/local/lib/python3.10/dist-packages (from wandb) (67.7.2)\n",
            "Collecting docker-pycreds>=0.4.0\n",
            "  Downloading docker_pycreds-0.4.0-py2.py3-none-any.whl (9.0 kB)\n",
            "Collecting sentry-sdk>=1.0.0\n",
            "  Downloading sentry_sdk-1.21.1-py2.py3-none-any.whl (201 kB)\n",
            "\u001b[2K     \u001b[90m━━━━━━━━━━━━━━━━━━━━━━━━━━━━━━━━━━━━━━\u001b[0m \u001b[32m201.7/201.7 kB\u001b[0m \u001b[31m25.0 MB/s\u001b[0m eta \u001b[36m0:00:00\u001b[0m\n",
            "\u001b[?25hCollecting pathtools\n",
            "  Downloading pathtools-0.1.2.tar.gz (11 kB)\n",
            "  Preparing metadata (setup.py) ... \u001b[?25l\u001b[?25hdone\n",
            "Requirement already satisfied: filelock in /usr/local/lib/python3.10/dist-packages (from ray) (3.12.0)\n",
            "Requirement already satisfied: attrs in /usr/local/lib/python3.10/dist-packages (from ray) (23.1.0)\n",
            "Collecting grpcio<=1.51.3,>=1.42.0\n",
            "  Downloading grpcio-1.51.3-cp310-cp310-manylinux_2_17_x86_64.manylinux2014_x86_64.whl (4.8 MB)\n",
            "\u001b[2K     \u001b[90m━━━━━━━━━━━━━━━━━━━━━━━━━━━━━━━━━━━━━━━━\u001b[0m \u001b[32m4.8/4.8 MB\u001b[0m \u001b[31m102.1 MB/s\u001b[0m eta \u001b[36m0:00:00\u001b[0m\n",
            "\u001b[?25hCollecting virtualenv<20.21.1,>=20.0.24\n",
            "  Downloading virtualenv-20.21.0-py3-none-any.whl (8.7 MB)\n",
            "\u001b[2K     \u001b[90m━━━━━━━━━━━━━━━━━━━━━━━━━━━━━━━━━━━━━━━━\u001b[0m \u001b[32m8.7/8.7 MB\u001b[0m \u001b[31m108.0 MB/s\u001b[0m eta \u001b[36m0:00:00\u001b[0m\n",
            "\u001b[?25hRequirement already satisfied: jsonschema in /usr/local/lib/python3.10/dist-packages (from ray) (4.3.3)\n",
            "Requirement already satisfied: numpy>=1.19.3 in /usr/local/lib/python3.10/dist-packages (from ray) (1.22.4)\n",
            "Collecting frozenlist\n",
            "  Downloading frozenlist-1.3.3-cp310-cp310-manylinux_2_5_x86_64.manylinux1_x86_64.manylinux_2_17_x86_64.manylinux2014_x86_64.whl (149 kB)\n",
            "\u001b[2K     \u001b[90m━━━━━━━━━━━━━━━━━━━━━━━━━━━━━━━━━━━━━━\u001b[0m \u001b[32m149.6/149.6 kB\u001b[0m \u001b[31m21.1 MB/s\u001b[0m eta \u001b[36m0:00:00\u001b[0m\n",
            "\u001b[?25hRequirement already satisfied: msgpack<2.0.0,>=1.0.0 in /usr/local/lib/python3.10/dist-packages (from ray) (1.0.5)\n",
            "Collecting aiosignal\n",
            "  Downloading aiosignal-1.3.1-py3-none-any.whl (7.6 kB)\n",
            "Collecting pytorch-lightning==1.6.*\n",
            "  Downloading pytorch_lightning-1.6.5-py3-none-any.whl (585 kB)\n",
            "\u001b[2K     \u001b[90m━━━━━━━━━━━━━━━━━━━━━━━━━━━━━━━━━━━━━━\u001b[0m \u001b[32m585.9/585.9 kB\u001b[0m \u001b[31m44.7 MB/s\u001b[0m eta \u001b[36m0:00:00\u001b[0m\n",
            "\u001b[?25hRequirement already satisfied: typing-extensions>=4.0.0 in /usr/local/lib/python3.10/dist-packages (from pytorch-lightning==1.6.*->ray-lightning) (4.5.0)\n",
            "Collecting pyDeprecate>=0.3.1\n",
            "  Downloading pyDeprecate-0.3.2-py3-none-any.whl (10 kB)\n",
            "Collecting protobuf!=4.21.0,<5,>=3.19.0\n",
            "  Downloading protobuf-3.20.1-cp310-cp310-manylinux_2_12_x86_64.manylinux2010_x86_64.whl (1.1 MB)\n",
            "\u001b[2K     \u001b[90m━━━━━━━━━━━━━━━━━━━━━━━━━━━━━━━━━━━━━━━━\u001b[0m \u001b[32m1.1/1.1 MB\u001b[0m \u001b[31m50.0 MB/s\u001b[0m eta \u001b[36m0:00:00\u001b[0m\n",
            "\u001b[?25hRequirement already satisfied: fsspec[http]!=2021.06.0,>=2021.05.0 in /usr/local/lib/python3.10/dist-packages (from pytorch-lightning==1.6.*->ray-lightning) (2023.4.0)\n",
            "Requirement already satisfied: torch>=1.8.* in /usr/local/lib/python3.10/dist-packages (from pytorch-lightning==1.6.*->ray-lightning) (2.0.0+cu118)\n",
            "Requirement already satisfied: tensorboard>=2.2.0 in /usr/local/lib/python3.10/dist-packages (from pytorch-lightning==1.6.*->ray-lightning) (2.12.2)\n",
            "Requirement already satisfied: tqdm>=4.57.0 in /usr/local/lib/python3.10/dist-packages (from pytorch-lightning==1.6.*->ray-lightning) (4.65.0)\n",
            "Requirement already satisfied: pillow>=8.3.2 in /usr/local/lib/python3.10/dist-packages (from imageio) (8.4.0)\n",
            "Requirement already satisfied: six>=1.4.0 in /usr/local/lib/python3.10/dist-packages (from docker-pycreds>=0.4.0->wandb) (1.16.0)\n",
            "Collecting gitdb<5,>=4.0.1\n",
            "  Downloading gitdb-4.0.10-py3-none-any.whl (62 kB)\n",
            "\u001b[2K     \u001b[90m━━━━━━━━━━━━━━━━━━━━━━━━━━━━━━━━━━━━━━━━\u001b[0m \u001b[32m62.7/62.7 kB\u001b[0m \u001b[31m9.0 MB/s\u001b[0m eta \u001b[36m0:00:00\u001b[0m\n",
            "\u001b[?25hRequirement already satisfied: urllib3<1.27,>=1.21.1 in /usr/local/lib/python3.10/dist-packages (from requests<3,>=2.0.0->wandb) (1.26.15)\n",
            "Requirement already satisfied: certifi>=2017.4.17 in /usr/local/lib/python3.10/dist-packages (from requests<3,>=2.0.0->wandb) (2022.12.7)\n",
            "Requirement already satisfied: idna<4,>=2.5 in /usr/local/lib/python3.10/dist-packages (from requests<3,>=2.0.0->wandb) (3.4)\n",
            "Requirement already satisfied: charset-normalizer~=2.0.0 in /usr/local/lib/python3.10/dist-packages (from requests<3,>=2.0.0->wandb) (2.0.12)\n",
            "Requirement already satisfied: triton==2.0.0 in /usr/local/lib/python3.10/dist-packages (from torch>=1.8.*->pytorch-lightning==1.6.*->ray-lightning) (2.0.0)\n",
            "Requirement already satisfied: jinja2 in /usr/local/lib/python3.10/dist-packages (from torch>=1.8.*->pytorch-lightning==1.6.*->ray-lightning) (3.1.2)\n",
            "Requirement already satisfied: sympy in /usr/local/lib/python3.10/dist-packages (from torch>=1.8.*->pytorch-lightning==1.6.*->ray-lightning) (1.11.1)\n",
            "Requirement already satisfied: networkx in /usr/local/lib/python3.10/dist-packages (from torch>=1.8.*->pytorch-lightning==1.6.*->ray-lightning) (3.1)\n",
            "Requirement already satisfied: cmake in /usr/local/lib/python3.10/dist-packages (from triton==2.0.0->torch>=1.8.*->pytorch-lightning==1.6.*->ray-lightning) (3.25.2)\n",
            "Requirement already satisfied: lit in /usr/local/lib/python3.10/dist-packages (from triton==2.0.0->torch>=1.8.*->pytorch-lightning==1.6.*->ray-lightning) (16.0.2)\n",
            "Collecting distlib<1,>=0.3.6\n",
            "  Downloading distlib-0.3.6-py2.py3-none-any.whl (468 kB)\n",
            "\u001b[2K     \u001b[90m━━━━━━━━━━━━━━━━━━━━━━━━━━━━━━━━━━━━━━\u001b[0m \u001b[32m468.5/468.5 kB\u001b[0m \u001b[31m41.0 MB/s\u001b[0m eta \u001b[36m0:00:00\u001b[0m\n",
            "\u001b[?25hRequirement already satisfied: platformdirs<4,>=2.4 in /usr/local/lib/python3.10/dist-packages (from virtualenv<20.21.1,>=20.0.24->ray) (3.3.0)\n",
            "Requirement already satisfied: pyrsistent!=0.17.0,!=0.17.1,!=0.17.2,>=0.14.0 in /usr/local/lib/python3.10/dist-packages (from jsonschema->ray) (0.19.3)\n",
            "Collecting aiohttp!=4.0.0a0,!=4.0.0a1\n",
            "  Downloading aiohttp-3.8.4-cp310-cp310-manylinux_2_17_x86_64.manylinux2014_x86_64.whl (1.0 MB)\n",
            "\u001b[2K     \u001b[90m━━━━━━━━━━━━━━━━━━━━━━━━━━━━━━━━━━━━━━━━\u001b[0m \u001b[32m1.0/1.0 MB\u001b[0m \u001b[31m68.8 MB/s\u001b[0m eta \u001b[36m0:00:00\u001b[0m\n",
            "\u001b[?25hCollecting smmap<6,>=3.0.1\n",
            "  Downloading smmap-5.0.0-py3-none-any.whl (24 kB)\n",
            "Requirement already satisfied: wheel>=0.26 in /usr/local/lib/python3.10/dist-packages (from tensorboard>=2.2.0->pytorch-lightning==1.6.*->ray-lightning) (0.40.0)\n",
            "Requirement already satisfied: google-auth-oauthlib<1.1,>=0.5 in /usr/local/lib/python3.10/dist-packages (from tensorboard>=2.2.0->pytorch-lightning==1.6.*->ray-lightning) (1.0.0)\n",
            "Requirement already satisfied: tensorboard-data-server<0.8.0,>=0.7.0 in /usr/local/lib/python3.10/dist-packages (from tensorboard>=2.2.0->pytorch-lightning==1.6.*->ray-lightning) (0.7.0)\n",
            "Requirement already satisfied: tensorboard-plugin-wit>=1.6.0 in /usr/local/lib/python3.10/dist-packages (from tensorboard>=2.2.0->pytorch-lightning==1.6.*->ray-lightning) (1.8.1)\n",
            "Requirement already satisfied: werkzeug>=1.0.1 in /usr/local/lib/python3.10/dist-packages (from tensorboard>=2.2.0->pytorch-lightning==1.6.*->ray-lightning) (2.3.0)\n",
            "Requirement already satisfied: absl-py>=0.4 in /usr/local/lib/python3.10/dist-packages (from tensorboard>=2.2.0->pytorch-lightning==1.6.*->ray-lightning) (1.4.0)\n",
            "Requirement already satisfied: google-auth<3,>=1.6.3 in /usr/local/lib/python3.10/dist-packages (from tensorboard>=2.2.0->pytorch-lightning==1.6.*->ray-lightning) (2.17.3)\n",
            "Requirement already satisfied: markdown>=2.6.8 in /usr/local/lib/python3.10/dist-packages (from tensorboard>=2.2.0->pytorch-lightning==1.6.*->ray-lightning) (3.4.3)\n",
            "Requirement already satisfied: MarkupSafe>=2.0 in /usr/local/lib/python3.10/dist-packages (from jinja2->torch>=1.8.*->pytorch-lightning==1.6.*->ray-lightning) (2.1.2)\n",
            "Requirement already satisfied: mpmath>=0.19 in /usr/local/lib/python3.10/dist-packages (from sympy->torch>=1.8.*->pytorch-lightning==1.6.*->ray-lightning) (1.3.0)\n",
            "Collecting async-timeout<5.0,>=4.0.0a3\n",
            "  Downloading async_timeout-4.0.2-py3-none-any.whl (5.8 kB)\n",
            "Collecting yarl<2.0,>=1.0\n",
            "  Downloading yarl-1.9.2-cp310-cp310-manylinux_2_17_x86_64.manylinux2014_x86_64.whl (268 kB)\n",
            "\u001b[2K     \u001b[90m━━━━━━━━━━━━━━━━━━━━━━━━━━━━━━━━━━━━━━\u001b[0m \u001b[32m268.8/268.8 kB\u001b[0m \u001b[31m33.0 MB/s\u001b[0m eta \u001b[36m0:00:00\u001b[0m\n",
            "\u001b[?25hCollecting multidict<7.0,>=4.5\n",
            "  Downloading multidict-6.0.4-cp310-cp310-manylinux_2_17_x86_64.manylinux2014_x86_64.whl (114 kB)\n",
            "\u001b[2K     \u001b[90m━━━━━━━━━━━━━━━━━━━━━━━━━━━━━━━━━━━━━━\u001b[0m \u001b[32m114.5/114.5 kB\u001b[0m \u001b[31m15.4 MB/s\u001b[0m eta \u001b[36m0:00:00\u001b[0m\n",
            "\u001b[?25hRequirement already satisfied: pyasn1-modules>=0.2.1 in /usr/local/lib/python3.10/dist-packages (from google-auth<3,>=1.6.3->tensorboard>=2.2.0->pytorch-lightning==1.6.*->ray-lightning) (0.3.0)\n",
            "Requirement already satisfied: rsa<5,>=3.1.4 in /usr/local/lib/python3.10/dist-packages (from google-auth<3,>=1.6.3->tensorboard>=2.2.0->pytorch-lightning==1.6.*->ray-lightning) (4.9)\n",
            "Requirement already satisfied: cachetools<6.0,>=2.0.0 in /usr/local/lib/python3.10/dist-packages (from google-auth<3,>=1.6.3->tensorboard>=2.2.0->pytorch-lightning==1.6.*->ray-lightning) (5.3.0)\n",
            "Requirement already satisfied: requests-oauthlib>=0.7.0 in /usr/local/lib/python3.10/dist-packages (from google-auth-oauthlib<1.1,>=0.5->tensorboard>=2.2.0->pytorch-lightning==1.6.*->ray-lightning) (1.3.1)\n",
            "Requirement already satisfied: pyasn1<0.6.0,>=0.4.6 in /usr/local/lib/python3.10/dist-packages (from pyasn1-modules>=0.2.1->google-auth<3,>=1.6.3->tensorboard>=2.2.0->pytorch-lightning==1.6.*->ray-lightning) (0.5.0)\n",
            "Requirement already satisfied: oauthlib>=3.0.0 in /usr/local/lib/python3.10/dist-packages (from requests-oauthlib>=0.7.0->google-auth-oauthlib<1.1,>=0.5->tensorboard>=2.2.0->pytorch-lightning==1.6.*->ray-lightning) (3.2.2)\n",
            "Building wheels for collected packages: antlr4-python3-runtime, pathtools\n",
            "  Building wheel for antlr4-python3-runtime (setup.py) ... \u001b[?25l\u001b[?25hdone\n",
            "  Created wheel for antlr4-python3-runtime: filename=antlr4_python3_runtime-4.9.3-py3-none-any.whl size=144573 sha256=21b0794d34d8e22bef299e7259c45cdf0d7520b45b898a56e2634d4bfb0523d1\n",
            "  Stored in directory: /root/.cache/pip/wheels/12/93/dd/1f6a127edc45659556564c5730f6d4e300888f4bca2d4c5a88\n",
            "  Building wheel for pathtools (setup.py) ... \u001b[?25l\u001b[?25hdone\n",
            "  Created wheel for pathtools: filename=pathtools-0.1.2-py3-none-any.whl size=8807 sha256=5d9544bbd95d22d364cba73ea2d3d9446fa9e95714e2cf36a09e7dd3ae337751\n",
            "  Stored in directory: /root/.cache/pip/wheels/e7/f3/22/152153d6eb222ee7a56ff8617d80ee5207207a8c00a7aab794\n",
            "Successfully built antlr4-python3-runtime pathtools\n",
            "Installing collected packages: pathtools, distlib, antlr4-python3-runtime, virtualenv, smmap, setproctitle, sentry-sdk, pyDeprecate, protobuf, overrides, omegaconf, multidict, grpcio, frozenlist, docker-pycreds, async-timeout, yarl, hydra-core, gitdb, aiosignal, ray, GitPython, aiohttp, wandb, torchmetrics, pytorch-lightning, ray-lightning\n",
            "  Attempting uninstall: protobuf\n",
            "    Found existing installation: protobuf 3.20.3\n",
            "    Uninstalling protobuf-3.20.3:\n",
            "      Successfully uninstalled protobuf-3.20.3\n",
            "  Attempting uninstall: grpcio\n",
            "    Found existing installation: grpcio 1.54.0\n",
            "    Uninstalling grpcio-1.54.0:\n",
            "      Successfully uninstalled grpcio-1.54.0\n",
            "\u001b[31mERROR: pip's dependency resolver does not currently take into account all the packages that are installed. This behaviour is the source of the following dependency conflicts.\n",
            "tensorflow 2.12.0 requires protobuf!=4.21.0,!=4.21.1,!=4.21.2,!=4.21.3,!=4.21.4,!=4.21.5,<5.0.0dev,>=3.20.3, but you have protobuf 3.20.1 which is incompatible.\n",
            "tensorflow-metadata 1.13.1 requires protobuf<5,>=3.20.3, but you have protobuf 3.20.1 which is incompatible.\n",
            "googleapis-common-protos 1.59.0 requires protobuf!=3.20.0,!=3.20.1,!=4.21.1,!=4.21.2,!=4.21.3,!=4.21.4,!=4.21.5,<5.0.0dev,>=3.19.5, but you have protobuf 3.20.1 which is incompatible.\n",
            "google-cloud-translate 3.11.1 requires protobuf!=3.20.0,!=3.20.1,!=4.21.0,!=4.21.1,!=4.21.2,!=4.21.3,!=4.21.4,!=4.21.5,<5.0.0dev,>=3.19.5, but you have protobuf 3.20.1 which is incompatible.\n",
            "google-cloud-language 2.9.1 requires protobuf!=3.20.0,!=3.20.1,!=4.21.0,!=4.21.1,!=4.21.2,!=4.21.3,!=4.21.4,!=4.21.5,<5.0.0dev,>=3.19.5, but you have protobuf 3.20.1 which is incompatible.\n",
            "google-cloud-firestore 2.11.0 requires protobuf!=3.20.0,!=3.20.1,!=4.21.0,!=4.21.1,!=4.21.2,!=4.21.3,!=4.21.4,!=4.21.5,<5.0.0dev,>=3.19.5, but you have protobuf 3.20.1 which is incompatible.\n",
            "google-cloud-datastore 2.15.1 requires protobuf!=3.20.0,!=3.20.1,!=4.21.0,!=4.21.1,!=4.21.2,!=4.21.3,!=4.21.4,!=4.21.5,<5.0.0dev,>=3.19.5, but you have protobuf 3.20.1 which is incompatible.\n",
            "google-cloud-bigquery 3.9.0 requires protobuf!=3.20.0,!=3.20.1,!=4.21.0,!=4.21.1,!=4.21.2,!=4.21.3,!=4.21.4,!=4.21.5,<5.0.0dev,>=3.19.5, but you have protobuf 3.20.1 which is incompatible.\n",
            "google-cloud-bigquery-storage 2.19.1 requires protobuf!=3.20.0,!=3.20.1,!=4.21.0,!=4.21.1,!=4.21.2,!=4.21.3,!=4.21.4,!=4.21.5,<5.0.0dev,>=3.19.5, but you have protobuf 3.20.1 which is incompatible.\n",
            "google-api-core 2.11.0 requires protobuf!=3.20.0,!=3.20.1,!=4.21.0,!=4.21.1,!=4.21.2,!=4.21.3,!=4.21.4,!=4.21.5,<5.0.0dev,>=3.19.5, but you have protobuf 3.20.1 which is incompatible.\u001b[0m\u001b[31m\n",
            "\u001b[0mSuccessfully installed GitPython-3.1.31 aiohttp-3.8.4 aiosignal-1.3.1 antlr4-python3-runtime-4.9.3 async-timeout-4.0.2 distlib-0.3.6 docker-pycreds-0.4.0 frozenlist-1.3.3 gitdb-4.0.10 grpcio-1.51.3 hydra-core-1.3.2 multidict-6.0.4 omegaconf-2.3.0 overrides-7.3.1 pathtools-0.1.2 protobuf-3.20.1 pyDeprecate-0.3.2 pytorch-lightning-1.6.5 ray-2.4.0 ray-lightning-0.3.0 sentry-sdk-1.21.1 setproctitle-1.3.2 smmap-5.0.0 torchmetrics-0.11.4 virtualenv-20.21.0 wandb-0.15.0 yarl-1.9.2\n"
          ]
        }
      ]
    },
    {
      "cell_type": "code",
      "source": [
        "%cd content\n",
        "!git clone https://github.com/cvignac/MiDi/\n",
        "%cd MiDi"
      ],
      "metadata": {
        "colab": {
          "base_uri": "https://localhost:8080/"
        },
        "id": "5RvYCtJy4h5g",
        "outputId": "7772e151-cf66-4a65-d0ec-16faf65c1813"
      },
      "execution_count": null,
      "outputs": [
        {
          "output_type": "stream",
          "name": "stdout",
          "text": [
            "[Errno 2] No such file or directory: 'content'\n",
            "/content\n",
            "fatal: destination path 'MiDi' already exists and is not an empty directory.\n",
            "/content/MiDi\n"
          ]
        }
      ]
    },
    {
      "cell_type": "code",
      "source": [
        "from src.datasets import qm9_dataset"
      ],
      "metadata": {
        "id": "9SaTKOEV5fVf"
      },
      "execution_count": null,
      "outputs": []
    },
    {
      "cell_type": "code",
      "source": [
        "import hydra\n",
        "import omegaconf\n",
        "\n",
        "@hydra.main(version_base='1.3', config_path='../configs', config_name='config')\n",
        "def get_cfg(cfg: omegaconf.DictConfig):\n",
        "  return cfg\n",
        "\n",
        "\n",
        "\n"
      ],
      "metadata": {
        "id": "DuqX0T0K-YZg"
      },
      "execution_count": null,
      "outputs": []
    },
    {
      "cell_type": "code",
      "source": [
        "datamodule = qm9_dataset.QM9DataModule(cfg)\n",
        "dataset_infos = qm9_dataset.QM9infos(datamodule=datamodule, cfg=cfg)"
      ],
      "metadata": {
        "id": "ATs0EKwbBifS"
      },
      "execution_count": null,
      "outputs": []
    },
    {
      "cell_type": "markdown",
      "source": [
        "# Molecule Data"
      ],
      "metadata": {
        "id": "p06XLrQgpu9u"
      }
    },
    {
      "cell_type": "markdown",
      "source": [
        "## QM9 dataset"
      ],
      "metadata": {
        "id": "Dj3aQf7buZTp"
      }
    },
    {
      "cell_type": "code",
      "source": [
        "from torch_geometric.datasets import QM9\n",
        "from torch_geometric.transforms import NormalizeFeatures\n",
        "\n",
        "dataset = QM9(root='/tmp/QM9')\n",
        "dataset = dataset[0:3000]\n",
        "\n",
        "print()\n",
        "print(f'Dataset: {dataset}:')\n",
        "print('======================')\n",
        "print(f'Number of graphs: {len(dataset)}')\n",
        "print(f'Number of features: {dataset.num_features}')\n",
        "print(f'Number of classes: {dataset.num_classes}')\n",
        "\n",
        "data = dataset[0]  # Get the first graph object.\n",
        "\n",
        "print()\n",
        "print(data)\n",
        "print('===========================================================================================================')\n",
        "\n",
        "# Gather some statistics about the graph.\n",
        "print(f'Number of nodes: {data.num_nodes}')\n",
        "print(f'Number of edges: {data.num_edges}')\n",
        "print(f'Average node degree: {data.num_edges / data.num_nodes:.2f}')\n",
        "print(f'Has isolated nodes: {data.has_isolated_nodes()}')\n",
        "print(f'Has self-loops: {data.has_self_loops()}')\n",
        "print(f'Is undirected: {data.is_undirected()}')"
      ],
      "metadata": {
        "colab": {
          "base_uri": "https://localhost:8080/"
        },
        "id": "5Vf8KSZgrLzb",
        "outputId": "f1d0308e-9ef0-4ec9-89ea-8f20b0b40933"
      },
      "execution_count": null,
      "outputs": [
        {
          "output_type": "stream",
          "name": "stdout",
          "text": [
            "\n",
            "Dataset: QM9(3000):\n",
            "======================\n",
            "Number of graphs: 3000\n",
            "Number of features: 11\n",
            "Number of classes: 19\n",
            "\n",
            "Data(x=[5, 11], edge_index=[2, 8], edge_attr=[8, 4], y=[1, 19], pos=[5, 3], idx=[1], name='gdb_1', z=[5])\n",
            "===========================================================================================================\n",
            "Number of nodes: 5\n",
            "Number of edges: 8\n",
            "Average node degree: 1.60\n",
            "Has isolated nodes: False\n",
            "Has self-loops: False\n",
            "Is undirected: True\n"
          ]
        }
      ]
    },
    {
      "cell_type": "code",
      "source": [
        "print(data.x)"
      ],
      "metadata": {
        "colab": {
          "base_uri": "https://localhost:8080/"
        },
        "id": "_LvdFhVj2IIV",
        "outputId": "042e191b-8b2b-4da3-9547-508d0450022f"
      },
      "execution_count": null,
      "outputs": [
        {
          "output_type": "stream",
          "name": "stdout",
          "text": [
            "tensor([[0., 1., 0., 0., 0., 6., 0., 0., 0., 0., 4.],\n",
            "        [1., 0., 0., 0., 0., 1., 0., 0., 0., 0., 0.],\n",
            "        [1., 0., 0., 0., 0., 1., 0., 0., 0., 0., 0.],\n",
            "        [1., 0., 0., 0., 0., 1., 0., 0., 0., 0., 0.],\n",
            "        [1., 0., 0., 0., 0., 1., 0., 0., 0., 0., 0.]])\n"
          ]
        }
      ]
    },
    {
      "cell_type": "code",
      "source": [
        "torch.manual_seed(12345)\n",
        "dataset = dataset.shuffle()\n",
        "\n",
        "train_dataset = dataset[:2000]\n",
        "test_dataset = dataset[2000:]\n",
        "\n",
        "print(f'Number of training graphs: {len(train_dataset)}')\n",
        "print(f'Number of test graphs: {len(test_dataset)}')"
      ],
      "metadata": {
        "colab": {
          "base_uri": "https://localhost:8080/"
        },
        "id": "YFG2VK5orL5b",
        "outputId": "4fa7f199-aff6-464a-e394-70188b36755a"
      },
      "execution_count": null,
      "outputs": [
        {
          "output_type": "stream",
          "name": "stdout",
          "text": [
            "Number of training graphs: 2000\n",
            "Number of test graphs: 1000\n"
          ]
        }
      ]
    },
    {
      "cell_type": "code",
      "source": [],
      "metadata": {
        "id": "ORTXcSFVrL-A"
      },
      "execution_count": null,
      "outputs": []
    },
    {
      "cell_type": "markdown",
      "source": [
        "# Synthetic data"
      ],
      "metadata": {
        "id": "loNXffqWXpGa"
      }
    },
    {
      "cell_type": "code",
      "source": [
        "import itertools\n",
        "import random\n",
        "\n",
        "# Define the nodes\n",
        "nodes = ['A', 'B', 'C', 'D']\n",
        "\n",
        "# Generate all binary combinations\n",
        "combinations = list(itertools.combinations_with_replacement(nodes, 2))\n",
        "\n",
        "# Calculate 40% of the total combinations\n",
        "sample_size = round(len(combinations) * 0.4)\n",
        "\n",
        "# Randomly sample a subset of the combinations\n",
        "subset = random.sample(combinations, sample_size)\n",
        "\n",
        "# Print the results\n",
        "print(\"All binary combinations:\", combinations)\n",
        "print(\"Sampled subset (40%):\", subset)\n"
      ],
      "metadata": {
        "colab": {
          "base_uri": "https://localhost:8080/"
        },
        "id": "BoV2Hf-GXoj0",
        "outputId": "984e9183-c9ab-4a20-f9d6-25aa18a6a84b"
      },
      "execution_count": null,
      "outputs": [
        {
          "output_type": "stream",
          "name": "stdout",
          "text": [
            "All binary combinations: [('A', 'A'), ('A', 'B'), ('A', 'C'), ('A', 'D'), ('B', 'B'), ('B', 'C'), ('B', 'D'), ('C', 'C'), ('C', 'D'), ('D', 'D')]\n",
            "Sampled subset (40%): [('C', 'C'), ('B', 'B'), ('C', 'D'), ('A', 'C')]\n"
          ]
        }
      ]
    },
    {
      "cell_type": "code",
      "source": [
        "import numpy as np\n",
        "import networkx as n\n",
        "import random"
      ],
      "metadata": {
        "id": "pP7EZX9oOO1D"
      },
      "execution_count": null,
      "outputs": []
    },
    {
      "cell_type": "code",
      "source": [
        "import numpy as np\n",
        "import networkx as nx\n",
        "\n",
        "def random_unit_vector(K):\n",
        "    \"\"\"Generate a random K-dimensional unit vector.\"\"\"\n",
        "    v = np.random.randn(K)\n",
        "    return v / np.linalg.norm(v)\n",
        "\n",
        "def sample_vectors(K):\n",
        "    # Generate random K-dimensional unit vectors for X and Y\n",
        "    X = random_unit_vector(K)\n",
        "    Y = random_unit_vector(K)\n",
        "\n",
        "    # Compute the projection of Y onto X\n",
        "    Y_proj_X = np.dot(X, Y) * X\n",
        "\n",
        "    # Compute the orthogonal component of Y with respect to X\n",
        "    Y_orth = Y - Y_proj_X\n",
        "\n",
        "    # Compute Z by adding a scaled orthogonal component of Y to X\n",
        "    Z = X + np.sqrt(1 - np.dot(X, Y)**2) * Y_orth / np.linalg.norm(Y_orth)\n",
        "\n",
        "    return X, Y, Z\n",
        "\n",
        "# Example usage:\n",
        "K = 3\n",
        "\n",
        "X, Y, Z = sample_vectors(K)\n",
        "\n",
        "print(\"Sampled X:\", X)\n",
        "print(\"Sampled Y:\", Y)\n",
        "print(\"Sampled Z:\", Z)\n",
        "print(\"X^T * Y =\", np.dot(X, Y))\n",
        "print(\"Y^T * Z =\", np.dot(Y, Z))\n"
      ],
      "metadata": {
        "colab": {
          "base_uri": "https://localhost:8080/"
        },
        "id": "uH2NVN2unyNv",
        "outputId": "13836d1e-ca87-42f7-ce2d-2fa8023b025e"
      },
      "execution_count": null,
      "outputs": [
        {
          "output_type": "stream",
          "name": "stdout",
          "text": [
            "Sampled X: [ 0.66462135  0.68144307 -0.30645359]\n",
            "Sampled Y: [ 0.66046493  0.21117113 -0.72055036]\n",
            "Sampled Z: [ 0.79094642  0.34495514 -0.78071473]\n",
            "X^T * Y = 0.803675449902284\n",
            "Y^T * Z = 1.1577812211266454\n"
          ]
        }
      ]
    },
    {
      "cell_type": "markdown",
      "source": [
        "# Function for generating Heterogeneous Graphs \n",
        "\n",
        "- with Small world assumption - Watts Strogatz Graph"
      ],
      "metadata": {
        "id": "2zN617cw9Hl-"
      }
    },
    {
      "cell_type": "code",
      "source": [
        "from IPython.terminal.embed import ultratb\n",
        "import networkx as nx\n",
        "import random\n",
        "from collections import deque\n",
        "from itertools import product\n",
        "import numpy as np\n",
        "\n",
        "def ws_graph (n,k,p):\n",
        "  return nx.watts_strogatz_graph(n, k, p)\n",
        "\n",
        "def get_available_node_types(current_node, graph, meta_graph):\n",
        "    if current_node is not None:\n",
        "      current_node_type = graph.nodes[current_node].get('type')\n",
        "    else:\n",
        "      current_node_type = None\n",
        "    \n",
        "    # process the case when we randomly select a node to start\n",
        "    if not current_node_type:\n",
        "        return list(meta_graph.keys())\n",
        "    else:\n",
        "        return list(meta_graph[current_node_type].keys())\n",
        "\n",
        "\n",
        "def normalize_node_type_prob(available_types, node_type_prob):\n",
        "    total_prob = sum(node_type_prob[available_types].values())\n",
        "    node_type_prob_normalized = {}\n",
        "    for node_type, prob in node_type_prob.items():\n",
        "      normalized_prob = prob / total_prob\n",
        "      node_type_prob_normalized[node_type] = normalized_prob\n",
        "\n",
        "    return node_type_prob_normalized\n",
        "\n",
        "\n",
        "\n",
        "def generate_heterogeneous_small_world(graph, meta_graph, node_type_prob):\n",
        "    # Step 1: Generate a Watts-Strogatz graph\n",
        "    \n",
        "\n",
        "    # Step 2: Normalize node type probabilities\n",
        "    node_type_prob_normalized = {node_type: prob / sum(node_type_prob.values()) for node_type, prob in node_type_prob.items()}\n",
        "    print(node_type_prob_normalized)\n",
        "\n",
        "    # Step 3: Assign node and edge types using BFS\n",
        "    visited = set()\n",
        "    print(graph.nodes())\n",
        "    current_node = None\n",
        "    last_node = None\n",
        "\n",
        "    possible_rel = [(i,j) for i in meta_graph.keys() for j in meta_graph[i].keys()]\n",
        "\n",
        "    for node in graph.nodes():\n",
        "        if node not in visited:\n",
        "            # BFS traversal\n",
        "            queue = deque([node])\n",
        "            \n",
        "            visited.add(node)\n",
        "\n",
        "            while queue:\n",
        "                print(queue)\n",
        "            \n",
        "                current_node = queue.popleft()\n",
        "                \n",
        "                if not graph.nodes[current_node].get('type'):\n",
        "                  possible_start_type = get_available_node_types(current_node, graph, meta_graph)\n",
        "                  sample_prob = [node_type_prob_normalized[node_type] for node_type in possible_start_type]\n",
        "                  node_type = random.choices(possible_start_type, sample_prob, k=1)[0]\n",
        "                  graph.nodes[current_node]['type'] = node_type\n",
        "\n",
        "                available_node_types = get_available_node_types(current_node, graph, meta_graph)\n",
        "\n",
        "                # Assign edge types and add unvisited neighbors to queue\n",
        "                for neighbor in graph.neighbors(current_node):\n",
        "                    if neighbor not in visited:\n",
        "                        # Assign node type\n",
        "                        if not graph.nodes[neighbor].get('type'):\n",
        "                            sample_prob = [node_type_prob_normalized[node_type] for node_type in available_node_types]\n",
        "                            node_type = random.choices(available_node_types, sample_prob, k=1)[0]\n",
        "\n",
        "                            print(graph.nodes[current_node].get('type'), available_node_types)\n",
        "\n",
        "                            print(\"sampled node type for node {vnumber}: {vtype}\".format(vnumber = neighbor, vtype = node_type))\n",
        "                            graph.nodes[neighbor]['type'] = node_type\n",
        "\n",
        "                        queue.append(neighbor)\n",
        "                        visited.add(neighbor)\n",
        "\n",
        "                last_node = current_node\n",
        "            \n",
        "    for u, v  in graph.edges():\n",
        "      if (graph.nodes[u]['type'],graph.nodes[v]['type']) in possible_rel:\n",
        "        print(u,v, graph.nodes[u]['type'], graph.nodes[v]['type'], meta_graph[graph.nodes[u]['type']][graph.nodes[v]['type']])\n",
        "        graph.edges[u, v]['type'] = meta_graph[graph.nodes[u]['type']][graph.nodes[v]['type']]\n",
        "      else:\n",
        "        print(u,v, graph.nodes[u]['type'], graph.nodes[v]['type'], 'NA')\n",
        "        graph.edges[u, v]['type'] = 'NA'\n",
        "    \n",
        "    return graph\n",
        "\n",
        "meta_graph = {\n",
        "    'A': {'C': 'rel_AC'},\n",
        "    'B': {'C': 'rel_BC'},\n",
        "    'C': {'A':'rel_AC','B':'rel_BC', 'D':'rel_CD'},\n",
        "    'D': {'C':'rel_CD','D':'rel_DD'}\n",
        "}\n",
        "node_type_prob = {'A': 1, 'B': 1, 'C': 1, 'D': 1}\n",
        "num_nodes = 20\n",
        "graph = ws_graph(num_nodes, 3, 0.5)\n",
        "hetero_graph = generate_heterogeneous_small_world(graph, meta_graph, node_type_prob)\n"
      ],
      "metadata": {
        "colab": {
          "base_uri": "https://localhost:8080/"
        },
        "id": "SE4mRj1vguCE",
        "outputId": "06243f31-c33d-4871-ae8c-5a0bcc18ce80"
      },
      "execution_count": 6,
      "outputs": [
        {
          "output_type": "stream",
          "name": "stdout",
          "text": [
            "{'A': 0.25, 'B': 0.25, 'C': 0.25, 'D': 0.25}\n",
            "[0, 1, 2, 3, 4, 5, 6, 7, 8, 9, 10, 11, 12, 13, 14, 15, 16, 17, 18, 19]\n",
            "deque([0])\n",
            "B ['C']\n",
            "sampled node type for node 1: C\n",
            "B ['C']\n",
            "sampled node type for node 18: C\n",
            "deque([1, 18])\n",
            "C ['A', 'B', 'D']\n",
            "sampled node type for node 2: A\n",
            "deque([18, 2])\n",
            "C ['A', 'B', 'D']\n",
            "sampled node type for node 17: B\n",
            "C ['A', 'B', 'D']\n",
            "sampled node type for node 7: A\n",
            "C ['A', 'B', 'D']\n",
            "sampled node type for node 12: D\n",
            "deque([2, 17, 7, 12])\n",
            "A ['C']\n",
            "sampled node type for node 3: C\n",
            "deque([17, 7, 12, 3])\n",
            "B ['C']\n",
            "sampled node type for node 6: C\n",
            "deque([7, 12, 3, 6])\n",
            "A ['C']\n",
            "sampled node type for node 8: C\n",
            "deque([12, 3, 6, 8])\n",
            "D ['C', 'D']\n",
            "sampled node type for node 11: C\n",
            "deque([3, 6, 8, 11])\n",
            "C ['A', 'B', 'D']\n",
            "sampled node type for node 4: A\n",
            "deque([6, 8, 11, 4])\n",
            "C ['A', 'B', 'D']\n",
            "sampled node type for node 5: A\n",
            "C ['A', 'B', 'D']\n",
            "sampled node type for node 16: A\n",
            "C ['A', 'B', 'D']\n",
            "sampled node type for node 19: D\n",
            "deque([8, 11, 4, 5, 16, 19])\n",
            "deque([11, 4, 5, 16, 19])\n",
            "deque([4, 5, 16, 19])\n",
            "deque([5, 16, 19])\n",
            "A ['C']\n",
            "sampled node type for node 10: C\n",
            "deque([16, 19, 10])\n",
            "A ['C']\n",
            "sampled node type for node 15: C\n",
            "deque([19, 10, 15])\n",
            "D ['C', 'D']\n",
            "sampled node type for node 13: C\n",
            "deque([10, 15, 13])\n",
            "C ['A', 'B', 'D']\n",
            "sampled node type for node 9: A\n",
            "deque([15, 13, 9])\n",
            "deque([13, 9])\n",
            "deque([9])\n",
            "A ['C']\n",
            "sampled node type for node 14: C\n",
            "deque([14])\n",
            "0 1 B C rel_BC\n",
            "0 18 B C rel_BC\n",
            "1 2 C A rel_AC\n",
            "2 3 A C rel_AC\n",
            "3 4 C A rel_AC\n",
            "4 5 A A NA\n",
            "5 6 A C rel_AC\n",
            "5 10 A C rel_AC\n",
            "6 17 C B rel_BC\n",
            "6 16 C A rel_AC\n",
            "6 19 C D rel_CD\n",
            "7 18 A C rel_AC\n",
            "7 8 A C rel_AC\n",
            "9 10 A C rel_AC\n",
            "9 14 A C rel_AC\n",
            "11 12 C D rel_CD\n",
            "12 18 D C rel_CD\n",
            "13 19 C D rel_CD\n",
            "15 16 C A rel_AC\n",
            "17 18 B C rel_BC\n"
          ]
        }
      ]
    },
    {
      "cell_type": "markdown",
      "source": [
        "## Graph_stats"
      ],
      "metadata": {
        "id": "d0sOim0bXdZ5"
      }
    },
    {
      "cell_type": "code",
      "source": [
        "# find unique relation types\n",
        "def unique_rel(meta_graph):\n",
        "  unique_elements = set()\n",
        "  for inner_dict in meta_graph.values():\n",
        "    for element in inner_dict.values():\n",
        "      unique_elements.add(element)\n",
        "\n",
        "  return unique_elements\n",
        "\n",
        "print(sorted(unique_rel(meta_graph)))"
      ],
      "metadata": {
        "colab": {
          "base_uri": "https://localhost:8080/"
        },
        "id": "YfJl6L56XEaN",
        "outputId": "6bba3d18-5358-4b79-f3f7-25b242392f25"
      },
      "execution_count": 7,
      "outputs": [
        {
          "output_type": "stream",
          "name": "stdout",
          "text": [
            "['rel_AC', 'rel_BC', 'rel_CD', 'rel_DD']\n"
          ]
        }
      ]
    },
    {
      "cell_type": "code",
      "source": [
        "graph.edges"
      ],
      "metadata": {
        "colab": {
          "base_uri": "https://localhost:8080/"
        },
        "id": "5XMQuON-zpUc",
        "outputId": "df2e018e-f26a-4635-efb3-c2bf90e54a65"
      },
      "execution_count": 8,
      "outputs": [
        {
          "output_type": "execute_result",
          "data": {
            "text/plain": [
              "EdgeView([(0, 1), (0, 18), (1, 2), (2, 3), (3, 4), (4, 5), (5, 6), (5, 10), (6, 17), (6, 16), (6, 19), (7, 18), (7, 8), (9, 10), (9, 14), (11, 12), (12, 18), (13, 19), (15, 16), (17, 18)])"
            ]
          },
          "metadata": {},
          "execution_count": 8
        }
      ]
    },
    {
      "cell_type": "markdown",
      "source": [
        "$\\nabla(f)$"
      ],
      "metadata": {
        "id": "LW_oeYMakLA2"
      }
    },
    {
      "cell_type": "code",
      "source": [
        "import matplotlib.pyplot as plt\n",
        "\n",
        "pos = nx.spring_layout(hetero_graph, seed=0)  # positions for all nodes\n",
        "\n",
        "# nodes\n",
        "options = {\"edgecolors\": \"tab:gray\", \"node_size\": 200, \"alpha\": 0.9}\n",
        "nx.draw_networkx_nodes(hetero_graph, pos, **options)\n",
        "\n",
        "# edges\n",
        "nx.draw_networkx_edges(hetero_graph, pos, width=1.0, alpha=0.5, edge_color=\"tab:red\",)\n",
        "\n",
        "labels = {i: graph.nodes[i]['type']+str(i) for i in range(len(graph.nodes))}\n",
        "nx.draw_networkx_labels(hetero_graph, pos, labels, font_size=5, font_color=\"whitesmoke\")\n",
        "\n",
        "plt.tight_layout()\n",
        "plt.axis(\"off\")\n",
        "plt.show()"
      ],
      "metadata": {
        "colab": {
          "base_uri": "https://localhost:8080/",
          "height": 487
        },
        "id": "5Cgh2-WFEfbR",
        "outputId": "ec28bb0d-29a1-43d8-a2b2-c7d201fc13a5"
      },
      "execution_count": 9,
      "outputs": [
        {
          "output_type": "display_data",
          "data": {
            "text/plain": [
              "<Figure size 640x480 with 1 Axes>"
            ],
            "image/png": "[encoded data removed]"
          },
          "metadata": {}
        }
      ]
    },
    {
      "cell_type": "code",
      "source": [
        "import itertools\n",
        "\n",
        "def adjacency_tensor(graph, meta_graph):\n",
        "    edge_types = ['rel_'+i+j for i,j in itertools.combinations_with_replacement(meta_graph.keys(), 2)]\n",
        "    n = len(graph.nodes())\n",
        "    r = len(edge_types)\n",
        "\n",
        "    adj_matrices = []\n",
        "\n",
        "    for edge_type in edge_types:\n",
        "        adj_matrix = np.zeros((n, n), dtype=np.int32)\n",
        "        \n",
        "        for u, v, data in graph.edges(data=True):\n",
        "            if data['type'] == edge_type:\n",
        "                adj_matrix[u, v] = 1\n",
        "                adj_matrix[v, u] = 1\n",
        "        \n",
        "        adj_matrices.append(adj_matrix)\n",
        "\n",
        "    edge_dict = {i: edge_types[i] for i in range(len(edge_types))}\n",
        "    return np.stack(adj_matrices, axis=-1), edge_dict\n",
        "\n",
        "adj_tensor, edge_dict = adjacency_tensor(hetero_graph, meta_graph)\n",
        "adj_tensor.shape\n"
      ],
      "metadata": {
        "colab": {
          "base_uri": "https://localhost:8080/"
        },
        "id": "qLmE_0IIT1PS",
        "outputId": "7dbad643-9c44-48e7-ec85-945774b676e2"
      },
      "execution_count": 47,
      "outputs": [
        {
          "output_type": "execute_result",
          "data": {
            "text/plain": [
              "(20, 20, 10)"
            ]
          },
          "metadata": {},
          "execution_count": 47
        }
      ]
    },
    {
      "cell_type": "code",
      "source": [
        "edge_dict, meta_graph"
      ],
      "metadata": {
        "colab": {
          "base_uri": "https://localhost:8080/"
        },
        "id": "_1gvg86mwrY-",
        "outputId": "569e5933-f9bb-47c2-9118-2b2440942b0c"
      },
      "execution_count": 49,
      "outputs": [
        {
          "output_type": "execute_result",
          "data": {
            "text/plain": [
              "({0: 'rel_AA',\n",
              "  1: 'rel_AB',\n",
              "  2: 'rel_AC',\n",
              "  3: 'rel_AD',\n",
              "  4: 'rel_BB',\n",
              "  5: 'rel_BC',\n",
              "  6: 'rel_BD',\n",
              "  7: 'rel_CC',\n",
              "  8: 'rel_CD',\n",
              "  9: 'rel_DD'},\n",
              " {'A': {'C': 'rel_AC'},\n",
              "  'B': {'C': 'rel_BC'},\n",
              "  'C': {'A': 'rel_AC', 'B': 'rel_BC', 'D': 'rel_CD'},\n",
              "  'D': {'C': 'rel_CD', 'D': 'rel_DD'}})"
            ]
          },
          "metadata": {},
          "execution_count": 49
        }
      ]
    },
    {
      "cell_type": "code",
      "source": [
        "def adj_to_cov(W_GT, num_nodes):\n",
        "  # W_GT = nx.adjacency_matrix(hetero_graph).todense()\n",
        "  weights = np.random.lognormal(0, 0.2, (num_nodes, num_nodes))\n",
        "  weights = (weights + weights.T) / 2\n",
        "  \n",
        "  W_GT = W_GT * weights\n",
        "  W_GT = W_GT * num_nodes / (np.sum(W_GT)+1e-10)\n",
        "  L_GT = np.diag(W_GT @ np.ones(num_nodes)) - W_GT\n",
        "  \n",
        "  cov_GT = np.linalg.inv(L_GT + (1e-1) * np.eye(num_nodes))\n",
        "  return cov_GT\n",
        "\n",
        "\n",
        "\n",
        "def generate_rel_signals(num_nodes, adj_tensor, sgl_dim):\n",
        "  noise_sigma = 1e-02\n",
        "  _ ,_, rel_num = adj_tensor.shape\n",
        "  print(rel_num)\n",
        "  emb_dim = sgl_dim * rel_num\n",
        "  print(emb_dim, sgl_dim)\n",
        "  signals_nodes = np.random.multivariate_normal(np.zeros(num_nodes), noise_sigma* np.eye(num_nodes), emb_dim)\n",
        "  signals_edges = np.zeros((rel_num, emb_dim))\n",
        "  \n",
        "  for rel in range(rel_num):\n",
        "    # the dimensions that are specific to relation type\n",
        "    cov = adj_to_cov(adj_tensor[:,:,rel], num_nodes)\n",
        "    # signals_rel = np.random.multivariate_normal(np.zeros(num_nodes), cov, sgl_dim)\n",
        "    # the dimension that is not relevant to relation type\n",
        "    signals_nodes[sgl_dim*rel:sgl_dim*(rel+1)] += np.random.multivariate_normal(np.zeros(num_nodes), cov, sgl_dim)\n",
        "    signals_edges[rel, sgl_dim*rel:sgl_dim*(rel+1)] = 1/sgl_dim\n",
        "  \n",
        "  return signals_nodes.T, signals_edges\n",
        "\n",
        "sgl_dim = 100\n",
        "signal_vtx, signals_edge = generate_rel_signals(num_nodes, adj_tensor, sgl_dim)"
      ],
      "metadata": {
        "colab": {
          "base_uri": "https://localhost:8080/"
        },
        "id": "QQHoxjkgPiwL",
        "outputId": "c3dd51c4-214f-45ec-99f8-896ae29ae932"
      },
      "execution_count": 79,
      "outputs": [
        {
          "output_type": "stream",
          "name": "stdout",
          "text": [
            "10\n",
            "1000 100\n"
          ]
        }
      ]
    },
    {
      "cell_type": "code",
      "source": [
        "adj_tensor[:,:,2]"
      ],
      "metadata": {
        "colab": {
          "base_uri": "https://localhost:8080/"
        },
        "id": "4LPjIuRU3-Ba",
        "outputId": "390e9298-41bb-4e0b-aea9-b61d852d1cb0"
      },
      "execution_count": 85,
      "outputs": [
        {
          "output_type": "execute_result",
          "data": {
            "text/plain": [
              "array([[0, 0, 0, 0, 0, 0, 0, 0, 0, 0, 0, 0, 0, 0, 0, 0, 0, 0, 0, 0],\n",
              "       [0, 0, 1, 0, 0, 0, 0, 0, 0, 0, 0, 0, 0, 0, 0, 0, 0, 0, 0, 0],\n",
              "       [0, 1, 0, 1, 0, 0, 0, 0, 0, 0, 0, 0, 0, 0, 0, 0, 0, 0, 0, 0],\n",
              "       [0, 0, 1, 0, 1, 0, 0, 0, 0, 0, 0, 0, 0, 0, 0, 0, 0, 0, 0, 0],\n",
              "       [0, 0, 0, 1, 0, 0, 0, 0, 0, 0, 0, 0, 0, 0, 0, 0, 0, 0, 0, 0],\n",
              "       [0, 0, 0, 0, 0, 0, 1, 0, 0, 0, 1, 0, 0, 0, 0, 0, 0, 0, 0, 0],\n",
              "       [0, 0, 0, 0, 0, 1, 0, 0, 0, 0, 0, 0, 0, 0, 0, 0, 1, 0, 0, 0],\n",
              "       [0, 0, 0, 0, 0, 0, 0, 0, 1, 0, 0, 0, 0, 0, 0, 0, 0, 0, 1, 0],\n",
              "       [0, 0, 0, 0, 0, 0, 0, 1, 0, 0, 0, 0, 0, 0, 0, 0, 0, 0, 0, 0],\n",
              "       [0, 0, 0, 0, 0, 0, 0, 0, 0, 0, 1, 0, 0, 0, 1, 0, 0, 0, 0, 0],\n",
              "       [0, 0, 0, 0, 0, 1, 0, 0, 0, 1, 0, 0, 0, 0, 0, 0, 0, 0, 0, 0],\n",
              "       [0, 0, 0, 0, 0, 0, 0, 0, 0, 0, 0, 0, 0, 0, 0, 0, 0, 0, 0, 0],\n",
              "       [0, 0, 0, 0, 0, 0, 0, 0, 0, 0, 0, 0, 0, 0, 0, 0, 0, 0, 0, 0],\n",
              "       [0, 0, 0, 0, 0, 0, 0, 0, 0, 0, 0, 0, 0, 0, 0, 0, 0, 0, 0, 0],\n",
              "       [0, 0, 0, 0, 0, 0, 0, 0, 0, 1, 0, 0, 0, 0, 0, 0, 0, 0, 0, 0],\n",
              "       [0, 0, 0, 0, 0, 0, 0, 0, 0, 0, 0, 0, 0, 0, 0, 0, 1, 0, 0, 0],\n",
              "       [0, 0, 0, 0, 0, 0, 1, 0, 0, 0, 0, 0, 0, 0, 0, 1, 0, 0, 0, 0],\n",
              "       [0, 0, 0, 0, 0, 0, 0, 0, 0, 0, 0, 0, 0, 0, 0, 0, 0, 0, 0, 0],\n",
              "       [0, 0, 0, 0, 0, 0, 0, 1, 0, 0, 0, 0, 0, 0, 0, 0, 0, 0, 0, 0],\n",
              "       [0, 0, 0, 0, 0, 0, 0, 0, 0, 0, 0, 0, 0, 0, 0, 0, 0, 0, 0, 0]],\n",
              "      dtype=int32)"
            ]
          },
          "metadata": {},
          "execution_count": 85
        }
      ]
    },
    {
      "cell_type": "code",
      "source": [
        "np.linalg.inv(adj_to_cov(adj_tensor[:,:,2], num_nodes))"
      ],
      "metadata": {
        "colab": {
          "base_uri": "https://localhost:8080/"
        },
        "id": "DWUlAkPFvTLe",
        "outputId": "66969825-8ef9-4bde-bcd3-c2f0676fddab"
      },
      "execution_count": 82,
      "outputs": [
        {
          "output_type": "execute_result",
          "data": {
            "text/plain": [
              "array([[ 1.00000000e-01,  0.00000000e+00,  0.00000000e+00,\n",
              "         0.00000000e+00,  0.00000000e+00,  0.00000000e+00,\n",
              "         0.00000000e+00,  0.00000000e+00,  0.00000000e+00,\n",
              "         0.00000000e+00,  0.00000000e+00,  0.00000000e+00,\n",
              "         0.00000000e+00,  0.00000000e+00,  0.00000000e+00,\n",
              "         0.00000000e+00,  0.00000000e+00,  0.00000000e+00,\n",
              "         0.00000000e+00,  0.00000000e+00],\n",
              "       [ 0.00000000e+00,  9.19140138e-01, -8.19140138e-01,\n",
              "         0.00000000e+00, -5.62575068e-17,  0.00000000e+00,\n",
              "         0.00000000e+00,  0.00000000e+00,  0.00000000e+00,\n",
              "         0.00000000e+00,  0.00000000e+00,  0.00000000e+00,\n",
              "         0.00000000e+00,  0.00000000e+00,  0.00000000e+00,\n",
              "         0.00000000e+00,  0.00000000e+00,  0.00000000e+00,\n",
              "         0.00000000e+00,  0.00000000e+00],\n",
              "       [ 0.00000000e+00, -8.19140138e-01,  2.09169899e+00,\n",
              "        -1.17255885e+00,  6.00708660e-16,  0.00000000e+00,\n",
              "         0.00000000e+00,  0.00000000e+00,  0.00000000e+00,\n",
              "         0.00000000e+00,  0.00000000e+00,  0.00000000e+00,\n",
              "         0.00000000e+00,  0.00000000e+00,  0.00000000e+00,\n",
              "         0.00000000e+00,  0.00000000e+00,  0.00000000e+00,\n",
              "         0.00000000e+00,  0.00000000e+00],\n",
              "       [ 0.00000000e+00,  1.03236184e-16, -1.17255885e+00,\n",
              "         2.10870865e+00, -8.36149796e-01,  0.00000000e+00,\n",
              "         0.00000000e+00,  0.00000000e+00,  0.00000000e+00,\n",
              "         0.00000000e+00,  0.00000000e+00,  0.00000000e+00,\n",
              "         0.00000000e+00,  0.00000000e+00,  0.00000000e+00,\n",
              "         0.00000000e+00,  0.00000000e+00,  0.00000000e+00,\n",
              "         0.00000000e+00,  0.00000000e+00],\n",
              "       [ 0.00000000e+00,  5.36986289e-17, -1.00330754e-17,\n",
              "        -8.36149796e-01,  9.36149796e-01,  0.00000000e+00,\n",
              "         0.00000000e+00,  0.00000000e+00,  0.00000000e+00,\n",
              "         0.00000000e+00,  0.00000000e+00,  0.00000000e+00,\n",
              "         0.00000000e+00,  0.00000000e+00,  0.00000000e+00,\n",
              "         0.00000000e+00,  0.00000000e+00,  0.00000000e+00,\n",
              "         0.00000000e+00,  0.00000000e+00],\n",
              "       [ 0.00000000e+00,  0.00000000e+00,  0.00000000e+00,\n",
              "         0.00000000e+00,  0.00000000e+00,  1.67608865e+00,\n",
              "        -8.91361323e-01,  0.00000000e+00,  0.00000000e+00,\n",
              "         1.26217093e-15, -6.84727328e-01,  0.00000000e+00,\n",
              "         0.00000000e+00,  0.00000000e+00, -5.62117319e-16,\n",
              "        -1.54156902e-16,  3.24213985e-16,  0.00000000e+00,\n",
              "         0.00000000e+00,  0.00000000e+00],\n",
              "       [ 0.00000000e+00,  0.00000000e+00,  0.00000000e+00,\n",
              "         0.00000000e+00,  0.00000000e+00, -8.91361323e-01,\n",
              "         1.90314835e+00,  0.00000000e+00,  0.00000000e+00,\n",
              "        -9.25744366e-16,  1.13018572e-15,  0.00000000e+00,\n",
              "         0.00000000e+00,  0.00000000e+00,  2.28588569e-16,\n",
              "         1.86524445e-17, -9.11787027e-01,  0.00000000e+00,\n",
              "         0.00000000e+00,  0.00000000e+00],\n",
              "       [ 0.00000000e+00,  0.00000000e+00,  0.00000000e+00,\n",
              "         0.00000000e+00,  0.00000000e+00,  0.00000000e+00,\n",
              "         0.00000000e+00,  2.18764913e+00, -1.01912142e+00,\n",
              "         0.00000000e+00,  0.00000000e+00,  0.00000000e+00,\n",
              "         0.00000000e+00,  0.00000000e+00,  0.00000000e+00,\n",
              "         0.00000000e+00,  0.00000000e+00,  0.00000000e+00,\n",
              "        -1.06852771e+00,  0.00000000e+00],\n",
              "       [ 0.00000000e+00,  0.00000000e+00,  0.00000000e+00,\n",
              "         0.00000000e+00,  0.00000000e+00,  0.00000000e+00,\n",
              "         0.00000000e+00, -1.01912142e+00,  1.11912142e+00,\n",
              "         0.00000000e+00,  0.00000000e+00,  0.00000000e+00,\n",
              "         0.00000000e+00,  0.00000000e+00,  0.00000000e+00,\n",
              "         0.00000000e+00,  0.00000000e+00,  0.00000000e+00,\n",
              "         0.00000000e+00,  0.00000000e+00],\n",
              "       [ 0.00000000e+00,  0.00000000e+00,  0.00000000e+00,\n",
              "         0.00000000e+00,  0.00000000e+00, -6.92430562e-16,\n",
              "         1.79993640e-16,  0.00000000e+00,  0.00000000e+00,\n",
              "         1.92907777e+00, -9.71701093e-01,  0.00000000e+00,\n",
              "         0.00000000e+00,  0.00000000e+00, -8.57376673e-01,\n",
              "         2.56717079e-17,  5.88641353e-17,  0.00000000e+00,\n",
              "         0.00000000e+00,  0.00000000e+00],\n",
              "       [ 0.00000000e+00,  0.00000000e+00,  0.00000000e+00,\n",
              "         0.00000000e+00,  0.00000000e+00, -6.84727328e-01,\n",
              "        -3.68113582e-16,  0.00000000e+00,  0.00000000e+00,\n",
              "        -9.71701093e-01,  1.75642842e+00,  0.00000000e+00,\n",
              "         0.00000000e+00,  0.00000000e+00,  7.46764249e-16,\n",
              "         6.68705526e-17, -1.55019699e-16,  0.00000000e+00,\n",
              "         0.00000000e+00,  0.00000000e+00],\n",
              "       [ 0.00000000e+00,  0.00000000e+00,  0.00000000e+00,\n",
              "         0.00000000e+00,  0.00000000e+00,  0.00000000e+00,\n",
              "         0.00000000e+00,  0.00000000e+00,  0.00000000e+00,\n",
              "         0.00000000e+00,  0.00000000e+00,  1.00000000e-01,\n",
              "         0.00000000e+00,  0.00000000e+00,  0.00000000e+00,\n",
              "         0.00000000e+00,  0.00000000e+00,  0.00000000e+00,\n",
              "         0.00000000e+00,  0.00000000e+00],\n",
              "       [ 0.00000000e+00,  0.00000000e+00,  0.00000000e+00,\n",
              "         0.00000000e+00,  0.00000000e+00,  0.00000000e+00,\n",
              "         0.00000000e+00,  0.00000000e+00,  0.00000000e+00,\n",
              "         0.00000000e+00,  0.00000000e+00,  0.00000000e+00,\n",
              "         1.00000000e-01,  0.00000000e+00,  0.00000000e+00,\n",
              "         0.00000000e+00,  0.00000000e+00,  0.00000000e+00,\n",
              "         0.00000000e+00,  0.00000000e+00],\n",
              "       [ 0.00000000e+00,  0.00000000e+00,  0.00000000e+00,\n",
              "         0.00000000e+00,  0.00000000e+00,  0.00000000e+00,\n",
              "         0.00000000e+00,  0.00000000e+00,  0.00000000e+00,\n",
              "         0.00000000e+00,  0.00000000e+00,  0.00000000e+00,\n",
              "         0.00000000e+00,  1.00000000e-01,  0.00000000e+00,\n",
              "         0.00000000e+00,  0.00000000e+00,  0.00000000e+00,\n",
              "         0.00000000e+00,  0.00000000e+00],\n",
              "       [ 0.00000000e+00,  0.00000000e+00,  0.00000000e+00,\n",
              "         0.00000000e+00,  0.00000000e+00,  3.54446453e-16,\n",
              "         9.69139912e-17,  0.00000000e+00,  0.00000000e+00,\n",
              "        -8.57376673e-01, -5.60073187e-16,  0.00000000e+00,\n",
              "         0.00000000e+00,  0.00000000e+00,  9.57376673e-01,\n",
              "        -1.06290163e-17, -1.07543008e-16,  0.00000000e+00,\n",
              "         0.00000000e+00,  0.00000000e+00],\n",
              "       [ 0.00000000e+00,  0.00000000e+00,  0.00000000e+00,\n",
              "         0.00000000e+00,  0.00000000e+00, -3.23711177e-16,\n",
              "         1.78674623e-16,  0.00000000e+00,  0.00000000e+00,\n",
              "        -2.60308848e-16,  4.59810282e-16,  0.00000000e+00,\n",
              "         0.00000000e+00,  0.00000000e+00, -1.11022302e-18,\n",
              "         8.67548637e-01, -7.67548637e-01,  0.00000000e+00,\n",
              "         0.00000000e+00,  0.00000000e+00],\n",
              "       [ 0.00000000e+00,  0.00000000e+00,  0.00000000e+00,\n",
              "         0.00000000e+00,  0.00000000e+00,  8.41657546e-16,\n",
              "        -9.11787027e-01,  0.00000000e+00,  0.00000000e+00,\n",
              "         4.55481649e-16, -9.31773839e-16,  0.00000000e+00,\n",
              "         0.00000000e+00,  0.00000000e+00, -1.12330925e-17,\n",
              "        -7.67548637e-01,  1.77933566e+00,  0.00000000e+00,\n",
              "         0.00000000e+00,  0.00000000e+00],\n",
              "       [ 0.00000000e+00,  0.00000000e+00,  0.00000000e+00,\n",
              "         0.00000000e+00,  0.00000000e+00,  0.00000000e+00,\n",
              "         0.00000000e+00,  0.00000000e+00,  0.00000000e+00,\n",
              "         0.00000000e+00,  0.00000000e+00,  0.00000000e+00,\n",
              "         0.00000000e+00,  0.00000000e+00,  0.00000000e+00,\n",
              "         0.00000000e+00,  0.00000000e+00,  1.00000000e-01,\n",
              "         0.00000000e+00,  0.00000000e+00],\n",
              "       [ 0.00000000e+00,  0.00000000e+00,  0.00000000e+00,\n",
              "         0.00000000e+00,  0.00000000e+00,  0.00000000e+00,\n",
              "         0.00000000e+00, -1.06852771e+00,  0.00000000e+00,\n",
              "         0.00000000e+00,  0.00000000e+00,  0.00000000e+00,\n",
              "         0.00000000e+00,  0.00000000e+00,  0.00000000e+00,\n",
              "         0.00000000e+00,  0.00000000e+00,  0.00000000e+00,\n",
              "         1.16852771e+00,  0.00000000e+00],\n",
              "       [ 0.00000000e+00,  0.00000000e+00,  0.00000000e+00,\n",
              "         0.00000000e+00,  0.00000000e+00,  0.00000000e+00,\n",
              "         0.00000000e+00,  0.00000000e+00,  0.00000000e+00,\n",
              "         0.00000000e+00,  0.00000000e+00,  0.00000000e+00,\n",
              "         0.00000000e+00,  0.00000000e+00,  0.00000000e+00,\n",
              "         0.00000000e+00,  0.00000000e+00,  0.00000000e+00,\n",
              "         0.00000000e+00,  1.00000000e-01]])"
            ]
          },
          "metadata": {},
          "execution_count": 82
        }
      ]
    },
    {
      "cell_type": "markdown",
      "source": [
        "## From signal estimate Laplacian Matrix"
      ],
      "metadata": {
        "id": "0hqoe5vKr2he"
      }
    },
    {
      "cell_type": "code",
      "source": [
        "def estimate_L(sgl_vtx, sgl_edge, dim):\n",
        "  out_product = sgl_vtx[:, np.newaxis, np.newaxis, :] * sgl_vtx[np.newaxis, : ,np.newaxis, :] * sgl_edge[ np.newaxis, np.newaxis, :,  :]\n",
        "  _,_,_,K = out_product.shape\n",
        "  L_hat = np.linalg.inv((np.sum(out_product, axis = 3)[:,:,dim]/K))/K\n",
        "  L_hat_undiag = L_hat *(1 - np.diag(L_hat))\n",
        "  threshold = 0.7*(np.max(L_hat_undiag) - np.min(L_hat_undiag))+ np.min(L_hat_undiag)\n",
        "  L_hat_undiag = (L_hat_undiag > threshold) * L_hat_undiag\n",
        "  L_recover = - np.diag(L_hat_undiag @ np.ones(num_nodes)) + L_hat_undiag\n",
        "  return L_recover\n",
        "\n",
        "estimate_L(signal_vtx, signals_edge, 2)"
      ],
      "metadata": {
        "colab": {
          "base_uri": "https://localhost:8080/"
        },
        "id": "LFELdOO26bcs",
        "outputId": "4e37f877-ad2f-4572-9a7e-b336ab149c21"
      },
      "execution_count": 99,
      "outputs": [
        {
          "output_type": "execute_result",
          "data": {
            "text/plain": [
              "array([[ 0.        ,  0.        , -0.        ,  0.        , -0.        ,\n",
              "        -0.        ,  0.        ,  0.        , -0.        ,  0.        ,\n",
              "        -0.        ,  0.        , -0.        , -0.        ,  0.        ,\n",
              "        -0.        ,  0.        , -0.        ,  0.        , -0.        ],\n",
              "       [ 0.        , -1.07454891,  1.07454891,  0.        , -0.        ,\n",
              "         0.        , -0.        ,  0.        , -0.        ,  0.        ,\n",
              "        -0.        ,  0.        ,  0.        , -0.        , -0.        ,\n",
              "        -0.        ,  0.        ,  0.        , -0.        ,  0.        ],\n",
              "       [ 0.        , -0.        , -2.1666305 ,  2.1666305 , -0.        ,\n",
              "        -0.        ,  0.        , -0.        , -0.        ,  0.        ,\n",
              "         0.        , -0.        , -0.        , -0.        ,  0.        ,\n",
              "         0.        , -0.        , -0.        ,  0.        , -0.        ],\n",
              "       [-0.        , -0.        ,  1.8059735 , -1.8059735 ,  0.        ,\n",
              "         0.        , -0.        , -0.        ,  0.        , -0.        ,\n",
              "        -0.        ,  0.        , -0.        ,  0.        ,  0.        ,\n",
              "        -0.        ,  0.        , -0.        , -0.        ,  0.        ],\n",
              "       [ 0.        ,  0.        , -0.        ,  1.55224753, -1.55224753,\n",
              "        -0.        ,  0.        ,  0.        , -0.        ,  0.        ,\n",
              "         0.        ,  0.        ,  0.        , -0.        , -0.        ,\n",
              "         0.        , -0.        ,  0.        , -0.        , -0.        ],\n",
              "       [ 0.        , -0.        , -0.        ,  0.        , -0.        ,\n",
              "        -3.14560908,  1.54475141,  0.        , -0.        , -0.        ,\n",
              "         1.60085767,  0.        , -0.        ,  0.        ,  0.        ,\n",
              "         0.        , -0.        , -0.        ,  0.        , -0.        ],\n",
              "       [-0.        ,  0.        ,  0.        , -0.        ,  0.        ,\n",
              "         1.1787922 , -2.17001681,  0.        ,  0.        ,  0.        ,\n",
              "         0.        , -0.        , -0.        ,  0.        ,  0.        ,\n",
              "         0.        ,  0.99122461,  0.        , -0.        ,  0.        ],\n",
              "       [-0.        , -0.        , -0.        , -0.        ,  0.        ,\n",
              "         0.        ,  0.        , -0.        ,  0.        , -0.        ,\n",
              "        -0.        ,  0.        , -0.        ,  0.        , -0.        ,\n",
              "        -0.        ,  0.        , -0.        ,  0.        ,  0.        ],\n",
              "       [ 0.        ,  0.        , -0.        ,  0.        , -0.        ,\n",
              "        -0.        ,  0.        ,  1.70072251, -1.70072251,  0.        ,\n",
              "         0.        , -0.        ,  0.        , -0.        , -0.        ,\n",
              "         0.        , -0.        ,  0.        , -0.        , -0.        ],\n",
              "       [-0.        , -0.        ,  0.        , -0.        ,  0.        ,\n",
              "        -0.        ,  0.        , -0.        ,  0.        , -2.28480286,\n",
              "         2.28480286, -0.        ,  0.        ,  0.        ,  0.        ,\n",
              "         0.        , -0.        , -0.        ,  0.        ,  0.        ],\n",
              "       [ 0.        ,  0.        ,  0.        , -0.        ,  0.        ,\n",
              "         1.05064864,  0.        , -0.        ,  0.        ,  2.18829045,\n",
              "        -3.2389391 ,  0.        ,  0.        , -0.        , -0.        ,\n",
              "        -0.        ,  0.        ,  0.        ,  0.        , -0.        ],\n",
              "       [ 0.        ,  0.        ,  0.        , -0.        , -0.        ,\n",
              "        -0.        ,  0.        , -0.        ,  0.        ,  0.        ,\n",
              "        -0.        ,  0.        ,  0.        ,  0.        , -0.        ,\n",
              "        -0.        ,  0.        ,  0.        ,  0.        ,  0.        ],\n",
              "       [-0.        ,  0.        ,  0.        ,  0.        , -0.        ,\n",
              "         0.        ,  0.        ,  0.        , -0.        , -0.        ,\n",
              "        -0.        ,  0.        ,  0.        , -0.        ,  0.        ,\n",
              "        -0.        ,  0.        , -0.        , -0.        ,  0.        ],\n",
              "       [-0.        , -0.        ,  0.        , -0.        ,  0.        ,\n",
              "        -0.        , -0.        , -0.        ,  0.        , -0.        ,\n",
              "         0.        ,  0.        , -0.        ,  0.        ,  0.        ,\n",
              "         0.        ,  0.        , -0.        ,  0.        ,  0.        ],\n",
              "       [-0.        ,  0.        ,  0.        ,  0.38928759, -0.        ,\n",
              "         0.        ,  0.        , -0.        , -0.        ,  1.69517857,\n",
              "        -0.        ,  0.        , -0.        , -0.        , -2.08446616,\n",
              "        -0.        , -0.        ,  0.        , -0.        , -0.        ],\n",
              "       [ 0.        ,  0.        ,  0.40606387, -0.        ,  0.        ,\n",
              "         0.        ,  0.        , -0.        ,  0.        ,  0.39025406,\n",
              "        -0.        ,  0.        ,  0.        , -0.        , -0.        ,\n",
              "        -2.31735847,  1.52104054,  0.        ,  0.        ,  0.        ],\n",
              "       [-0.        , -0.        , -0.        ,  0.39190421, -0.        ,\n",
              "        -0.        ,  1.18080305,  0.        , -0.        , -0.        ,\n",
              "         0.        , -0.        , -0.        , -0.        , -0.        ,\n",
              "         1.00924969, -2.58195695, -0.        ,  0.        ,  0.        ],\n",
              "       [-0.        ,  0.        ,  0.        ,  0.        , -0.        ,\n",
              "         0.        , -0.        ,  0.        , -0.        ,  0.        ,\n",
              "        -0.        ,  0.        , -0.        , -0.        , -0.        ,\n",
              "        -0.        ,  0.        ,  0.        , -0.        , -0.        ],\n",
              "       [-0.        ,  0.        ,  0.        , -0.        , -0.        ,\n",
              "         0.        , -0.        ,  1.99653534, -0.        ,  0.        ,\n",
              "         0.        , -0.        ,  0.        , -0.        , -0.        ,\n",
              "         0.        ,  0.        ,  0.        , -1.99653534,  0.        ],\n",
              "       [-0.        ,  0.        ,  0.        , -0.        ,  0.        ,\n",
              "         0.        , -0.        , -0.        ,  0.        , -0.        ,\n",
              "         0.        ,  0.        ,  0.        ,  0.        ,  0.        ,\n",
              "        -0.        , -0.        , -0.        , -0.        ,  0.        ]])"
            ]
          },
          "metadata": {},
          "execution_count": 99
        }
      ]
    },
    {
      "cell_type": "markdown",
      "source": [
        "## Generate Adjacancy Tensor from Hetero_graph object"
      ],
      "metadata": {
        "id": "orGjrqHlVnri"
      }
    },
    {
      "cell_type": "code",
      "source": [],
      "metadata": {
        "id": "Fv9oyv18B8ez"
      },
      "execution_count": null,
      "outputs": []
    },
    {
      "cell_type": "code",
      "source": [
        "edge_types = ['rel_'+i+j for i,j in itertools.combinations_with_replacement(meta_graph.keys(), 2)]\n",
        "edge_types"
      ],
      "metadata": {
        "colab": {
          "base_uri": "https://localhost:8080/"
        },
        "id": "s20RzTd6WX8Y",
        "outputId": "5c876a93-49d2-4279-ec70-efead8840ede"
      },
      "execution_count": null,
      "outputs": [
        {
          "output_type": "execute_result",
          "data": {
            "text/plain": [
              "['rel_AA',\n",
              " 'rel_AB',\n",
              " 'rel_AC',\n",
              " 'rel_AD',\n",
              " 'rel_BB',\n",
              " 'rel_BC',\n",
              " 'rel_BD',\n",
              " 'rel_CC',\n",
              " 'rel_CD',\n",
              " 'rel_DD']"
            ]
          },
          "metadata": {},
          "execution_count": 120
        }
      ]
    },
    {
      "cell_type": "code",
      "source": [
        "import numpy as np\n",
        "\n",
        "def adjacency_tensor(graph, meta_graph):\n",
        "    edge_types = ['rel_'+i+j for i,j in itertools.combinations_with_replacement(meta_graph.keys(), 2)]\n",
        "    n = len(graph.nodes())\n",
        "    r = len(edge_types)\n",
        "\n",
        "    adj_matrices = []\n",
        "\n",
        "    for edge_type in edge_types:\n",
        "        adj_matrix = np.empty((n, n), dtype=object)\n",
        "        \n",
        "        for u, v, data in graph.edges(data=True):\n",
        "            if data['type'] == edge_type:\n",
        "                element = graph.nodes[u]['type'] + '_'+ graph.edges[u,v]['type'] +'_'+ graph.nodes[v]['type']\n",
        "                adj_matrix[u, v] = element\n",
        "                adj_matrix[v, u] = adj_matrix[u, v] \n",
        "        \n",
        "        adj_matrices.append(adj_matrix)\n",
        "\n",
        "    return np.stack(adj_matrices, axis=-1)\n",
        "\n",
        "adjacency_tensor_result_cat = adjacency_tensor(hetero_graph, meta_graph)\n",
        "adjacency_tensor_result_cat.shape\n"
      ],
      "metadata": {
        "id": "EuWdV1mHI5jv",
        "colab": {
          "base_uri": "https://localhost:8080/"
        },
        "outputId": "4b6d4117-8997-4e07-c1ef-8208a842f96c"
      },
      "execution_count": null,
      "outputs": [
        {
          "output_type": "execute_result",
          "data": {
            "text/plain": [
              "(50, 50, 10)"
            ]
          },
          "metadata": {},
          "execution_count": 116
        }
      ]
    },
    {
      "cell_type": "code",
      "source": [
        "def adjacency_tensor(graph, meta_graph):\n",
        "    edge_types = ['rel_'+i+j for i,j in itertools.combinations_with_replacement(meta_graph.keys(), 2)]\n",
        "    n = len(graph.nodes())\n",
        "    r = len(edge_types)\n",
        "\n",
        "    adj_matrices = []\n",
        "\n",
        "    for edge_type in edge_types:\n",
        "        adj_matrix = np.zeros((n, n), dtype=np.int32)\n",
        "        \n",
        "        for u, v, data in graph.edges(data=True):\n",
        "            if data['type'] == edge_type:\n",
        "                adj_matrix[u, v] = 1\n",
        "                adj_matrix[v, u] = 1\n",
        "        \n",
        "        adj_matrices.append(adj_matrix)\n",
        "\n",
        "    return np.stack(adj_matrices, axis=-1)\n",
        "\n",
        "adjacency_tensor_result = adjacency_tensor(hetero_graph, meta_graph)\n",
        "adjacency_tensor_result.shape\n"
      ],
      "metadata": {
        "colab": {
          "base_uri": "https://localhost:8080/"
        },
        "id": "XRU15cv5V2q2",
        "outputId": "9da432ac-1392-4181-b62c-e106c716e75a"
      },
      "execution_count": null,
      "outputs": [
        {
          "output_type": "execute_result",
          "data": {
            "text/plain": [
              "(50, 50, 10)"
            ]
          },
          "metadata": {},
          "execution_count": 117
        }
      ]
    },
    {
      "cell_type": "code",
      "source": [
        "import numpy as np\n",
        "import math\n",
        "\n",
        "import torch\n",
        "device = torch.device(\"cuda:0\" if torch.cuda.is_available() else \"cpu\")\n",
        "\n",
        "from scipy.spatial.distance import squareform\n",
        "from sklearn.metrics.pairwise import euclidean_distances\n",
        "import scipy.sparse as sparse\n",
        "from sklearn import metrics\n",
        "import scipy.stats\n",
        "\n",
        "\n",
        "#%%\n",
        "\n",
        "def halfvec_to_topo(w, threshold, device):\n",
        "    \"\"\"\n",
        "    from half vectorisation to matrix in batch way.\n",
        "    \"\"\"\n",
        "\n",
        "    batch_size, l = w.size()\n",
        "    m = int((1 / 2) * (1 + math.sqrt(1 + 8 * l)))\n",
        "\n",
        "    # extract binary edge {0, 1}:\n",
        "    bw = (w.clone().detach() >= threshold).float().to(device)\n",
        "    E = torch.zeros((batch_size, m, m), dtype = w.dtype).to(device)\n",
        "\n",
        "    for i in range(batch_size):\n",
        "        E[i, :, :][np.triu_indices(m, 1)] = bw[i].clone().detach()\n",
        "        E[i, :, :] = E[i, :, :].T + E[i, :, :]\n",
        "\n",
        "    return E\n",
        "\n",
        "#%%\n",
        "\n",
        "def torch_sqaureform_to_matrix(w, device):\n",
        "    \"\"\"\n",
        "    from half vectorisation to matrix in batch way.\n",
        "    \"\"\"\n",
        "\n",
        "    batch_size, l = w.size()\n",
        "    m = int((1 / 2) * (1 + math.sqrt(1 + 8 * l)))\n",
        "\n",
        "    E = torch.zeros((batch_size, m, m), dtype = w.dtype).to(device)\n",
        "\n",
        "    for i in range(batch_size):\n",
        "        E[i, :, :][np.triu_indices(m, 1)] = w[i].clone().detach()\n",
        "        E[i, :, :] = E[i, :, :].T + E[i, :, :]\n",
        "\n",
        "    return E\n",
        "\n",
        "#%%\n",
        "\n",
        "def torch_squareform_to_vector(A, device):\n",
        "    batch_size, m, _ = A.size()\n",
        "    l = int(m * (m - 1) / 2)\n",
        "\n",
        "    w = torch.zeros((batch_size, l), dtype = A.dtype).to(device)\n",
        "\n",
        "    for i in range(batch_size):\n",
        "        w[i, :] = A[i,:,:][np.triu_indices(m, 1)].clone().detach()\n",
        "\n",
        "    return w\n",
        "\n",
        "#%%\n",
        "\n",
        "def soft_threshold(w, eta):\n",
        "    '''\n",
        "    softthreshold function in a batch way.\n",
        "    '''\n",
        "    return (torch.abs(w) >= eta) * torch.sign(w) * (torch.abs(w) - eta)\n",
        "\n",
        "\n",
        "#%%\n",
        "\n",
        "def check_tensor(x, device):\n",
        "    if isinstance(x, np.ndarray) or type(x) in [int, float]:\n",
        "        x = torch.Tensor(x)\n",
        "    if isinstance(x, torch.Tensor):\n",
        "        return x.to(device=device)\n",
        "    return x\n",
        "\n",
        "#%%\n",
        "\n",
        "def coo_to_sparseTensor(coo):\n",
        "    values = coo.data\n",
        "    indices = np.vstack((coo.row, coo.col))\n",
        "\n",
        "    i = torch.LongTensor(indices)\n",
        "    v = torch.FloatTensor(values)\n",
        "    shape = coo.shape\n",
        "\n",
        "    return torch.sparse.FloatTensor(i, v, torch.Size(shape)).to_dense()\n",
        "\n",
        "\n",
        "#%%\n",
        "\n",
        "def get_degree_operator(m):\n",
        "    ncols =int(m*(m - 1)/2)\n",
        "\n",
        "    I = np.zeros(ncols)\n",
        "    J = np.zeros(ncols)\n",
        "\n",
        "    k = 0\n",
        "    for i in np.arange(1, m):\n",
        "        I[k:(k + m - i)] = np.arange(i, m)\n",
        "        k = k + (m - i)\n",
        "\n",
        "    k = 0\n",
        "    for i in np.arange(1, m):\n",
        "        J[k: (k + m - i)] = i - 1\n",
        "        k = k + m - i\n",
        "\n",
        "    Row = np.tile(np.arange(0, ncols), 2)\n",
        "    Col = np.append(I, J)\n",
        "    Data = np.ones(Col.size)\n",
        "    St = sparse.coo_matrix((Data, (Row, Col)), shape=(ncols, m))\n",
        "    return St.T\n",
        "\n",
        "#%%\n",
        "\n",
        "def get_distance_halfvector(y):\n",
        "    n, _ = y.shape # m nodes, n observations\n",
        "    z = (1 / n) * euclidean_distances(y.T, squared=True)\n",
        "    # z.shape = m, m\n",
        "    return squareform(z, checks=False)"
      ],
      "metadata": {
        "id": "2mBWDljuWaZD"
      },
      "execution_count": null,
      "outputs": []
    },
    {
      "cell_type": "code",
      "source": [
        "\n",
        "def _generate_SBM100noise_to_parallel(i, num_nodes, num_signals, graph_hyper, weighted, weight_scale = False):\n",
        "\n",
        "    size = [4, 2, 2, 13, 13, 15, 17, 3, 12, 10, 9]\n",
        "\n",
        "    p = graph_hyper\n",
        "    probs = [[0.95, p, p, p, p, p, p, p, p, p, p],\n",
        "             [p, 1, p, p, p, p, p, p, p, p, p],\n",
        "             [p, p, 1, p, p, p, p, p, p, p, p],\n",
        "             [p, p, p, 0.6, p, p, p, p, p, p, p],\n",
        "             [p, p, p, p, 0.6, p, p, p, p, p, p],\n",
        "             [p, p, p, p, p, 0.5, p, p, p, p, p],\n",
        "             [p, p, p, p, p, p, 0.5, p, p, p, p],\n",
        "             [p, p, p, p, p, p, p, 0.95, p, p, p],\n",
        "             [p, p, p, p, p, p, p, p, 0.65, p, p],\n",
        "             [p, p, p, p, p, p, p, p, p, 0.65, p],\n",
        "             [p, p, p, p, p, p, p, p, p, p, 0.65]]\n",
        "\n",
        "    G = nx.stochastic_block_model(size, probs)\n",
        "\n",
        "    W_GT = nx.adjacency_matrix(G).A\n",
        "\n",
        "    if weighted == 'uniform':\n",
        "        weights = np.random.uniform(0, 2, (num_nodes, num_nodes))\n",
        "        weights = (weights + weights.T) / 2\n",
        "        W_GT = W_GT * weights\n",
        "\n",
        "    if weighted == 'gaussian':\n",
        "        weights = np.random.normal(1, 0.05, (num_nodes, num_nodes))\n",
        "        weights = np.abs(weights)\n",
        "        weights = (weights + weights.T) / 2\n",
        "        W_GT = W_GT * weights\n",
        "\n",
        "    if weighted == 'lognormal':\n",
        "        weights = np.random.lognormal(0, 0.1, (num_nodes, num_nodes))\n",
        "        weights = (weights + weights.T) / 2\n",
        "        W_GT = W_GT * weights\n",
        "\n",
        "\n",
        "    if weight_scale:\n",
        "        W_GT = W_GT * num_nodes / np.sum(W_GT)\n",
        "\n",
        "    L_GT = np.diag(W_GT @ np.ones(num_nodes)) - W_GT\n",
        "\n",
        "    W_GT = scipy.sparse.csr_matrix(W_GT)\n",
        "\n",
        "    cov = np.linalg.inv(L_GT + (1e-06) * np.eye(num_nodes))\n",
        "    z = get_distance_halfvector(np.random.multivariate_normal(np.zeros(num_nodes), cov, num_signals))\n",
        "\n",
        "    return z, W_GT\n",
        "\n",
        "def generate_SBM100noise_parallel(num_samples, num_nodes, num_signals, graph_hyper, weighted, weight_scale):\n",
        "    n_cpu = multiprocess.cpu_count() - 2\n",
        "    pool = multiprocess.Pool(n_cpu)\n",
        "\n",
        "    z_multi, W_multi = zip(*pool.map(partial(_generate_SBM100noise_to_parallel,\n",
        "                                             num_nodes = num_nodes,\n",
        "                                             num_signals = num_signals,\n",
        "                                             graph_hyper = graph_hyper,\n",
        "                                             weighted = weighted,\n",
        "                                             weight_scale = weight_scale),\n",
        "                                     range(num_samples)))\n",
        "\n",
        "    result = {\n",
        "        'z': z_multi,\n",
        "        'W': W_multi\n",
        "    }\n",
        "\n",
        "    return result"
      ],
      "metadata": {
        "id": "WJt-JM-wWAVX"
      },
      "execution_count": null,
      "outputs": []
    },
    {
      "cell_type": "code",
      "source": [
        "import pickle\n",
        "from src.utils_data import *\n",
        "\n",
        "#%%\n",
        "\n",
        "graph_type = 'BA'\n",
        "edge_type = 'lognormal'\n",
        "graph_size = 500\n",
        "\n",
        "graph_hyper = 3\n",
        "\n",
        "data = generate_BA_parallel(num_samples=8064,\n",
        "                            num_signals=3000,\n",
        "                            num_nodes=graph_size,\n",
        "                            graph_hyper=graph_hyper,\n",
        "                            weighted=edge_type,\n",
        "                            weight_scale=True)\n"
      ],
      "metadata": {
        "id": "GXacU1GJWrr7"
      },
      "execution_count": null,
      "outputs": []
    },
    {
      "cell_type": "markdown",
      "source": [],
      "metadata": {
        "id": "PGZleE89pzrF"
      }
    },
    {
      "cell_type": "markdown",
      "metadata": {
        "id": "3apSmsYKYyTV"
      },
      "source": [
        "## Blessing"
      ]
    },
    {
      "cell_type": "code",
      "metadata": {
        "id": "PFxAgVNc0zOO"
      },
      "source": [
        "# Divine beast bless no bug here! \n",
        "#         ┌─┐    ┌─┐\n",
        "#      ┌─┘ ┴───┘ ┴──┐\n",
        "#      │                   │\n",
        "#      │       ───       │\n",
        "#      │  ─┬┘     └┬─  │\n",
        "#      │                   │\n",
        "#      │       ─┴─       │\n",
        "#      │                   │\n",
        "#      └─┐         ┌───┘\n",
        "#          │         │\n",
        "#          │         │\n",
        "#          │         │\n",
        "#          │         └──────────────┐\n",
        "#          │                                  │\n",
        "#          │                                  ├─┐\n",
        "#          │                                  ┌─┘\n",
        "#          │                                  │\n",
        "#          └─┐  ┐  ┌──────┬──┐  ┌──┘\n",
        "#            │  ─┤ ─┤         │  ─┤ ─┤\n",
        "#            └──┴──┘         └──┴──┘"
      ],
      "execution_count": null,
      "outputs": []
    },
    {
      "cell_type": "code",
      "metadata": {
        "id": "tDym5o3f-luP"
      },
      "source": [],
      "execution_count": null,
      "outputs": []
    },
    {
      "cell_type": "code",
      "source": [
        "import torch\n",
        "import numpy as np"
      ],
      "metadata": {
        "id": "_QHwjrjzDgpq"
      },
      "execution_count": null,
      "outputs": []
    },
    {
      "cell_type": "code",
      "source": [
        "W = torch.randint(10, (3, 4, 3))\n",
        "W"
      ],
      "metadata": {
        "colab": {
          "base_uri": "https://localhost:8080/"
        },
        "id": "bblmMuCaDhvA",
        "outputId": "754c5471-7c3c-4359-ac06-87372921d397"
      },
      "execution_count": null,
      "outputs": [
        {
          "output_type": "execute_result",
          "data": {
            "text/plain": [
              "tensor([[[5, 9, 2],\n",
              "         [5, 0, 0],\n",
              "         [5, 6, 7],\n",
              "         [0, 6, 8]],\n",
              "\n",
              "        [[1, 6, 6],\n",
              "         [6, 1, 8],\n",
              "         [0, 8, 4],\n",
              "         [7, 6, 4]],\n",
              "\n",
              "        [[0, 2, 8],\n",
              "         [3, 8, 3],\n",
              "         [5, 4, 8],\n",
              "         [5, 8, 2]]])"
            ]
          },
          "metadata": {},
          "execution_count": 8
        }
      ]
    },
    {
      "cell_type": "code",
      "source": [
        "E = torch.randint(5, (4, 10))\n",
        "E"
      ],
      "metadata": {
        "colab": {
          "base_uri": "https://localhost:8080/"
        },
        "id": "VcuPnkjcDoGM",
        "outputId": "26b77c93-1633-4b28-9eb5-fc6214a4cf80"
      },
      "execution_count": null,
      "outputs": [
        {
          "output_type": "execute_result",
          "data": {
            "text/plain": [
              "tensor([[4, 4, 0, 2, 3, 0, 4, 2, 2, 1],\n",
              "        [4, 0, 3, 1, 2, 2, 0, 0, 2, 4],\n",
              "        [0, 3, 4, 3, 2, 0, 4, 0, 3, 3],\n",
              "        [4, 2, 1, 2, 4, 3, 4, 0, 2, 3]])"
            ]
          },
          "metadata": {},
          "execution_count": 10
        }
      ]
    },
    {
      "cell_type": "code",
      "source": [
        "X = torch.randint(5, (3, 10))\n",
        "X"
      ],
      "metadata": {
        "colab": {
          "base_uri": "https://localhost:8080/"
        },
        "id": "zET6oFIdEDbE",
        "outputId": "3ae57f8d-fdc3-41c5-973e-25c0789df845"
      },
      "execution_count": null,
      "outputs": [
        {
          "output_type": "execute_result",
          "data": {
            "text/plain": [
              "tensor([[2, 0, 3, 3, 3, 1, 1, 0, 1, 4],\n",
              "        [2, 2, 3, 3, 0, 4, 2, 0, 0, 3],\n",
              "        [1, 2, 0, 1, 0, 4, 0, 4, 0, 2]])"
            ]
          },
          "metadata": {},
          "execution_count": 11
        }
      ]
    },
    {
      "cell_type": "code",
      "source": [
        "d_e = 10\n",
        "d_r = 20\n",
        "N = 6\n",
        "W = torch.randint(10, (d_e, d_r, d_e))\n",
        "X = torch.randint(5, (N, d_e))\n",
        "E = torch.randint(3, (N, d_r))"
      ],
      "metadata": {
        "id": "T3I2Ra8eJYBx"
      },
      "execution_count": null,
      "outputs": []
    },
    {
      "cell_type": "code",
      "source": [
        "def tucker_decomp(w, h, r, t, ent_num ,rel_mum ):\n",
        "\n",
        "\n",
        "  w = w.view(1, ent_num, rel_mum, ent_num)\n",
        "  r = r.view(-1, 1, 1, rel_mum)\n",
        "  print(w.shape, r.shape)\n",
        "  wr = r @ w\n",
        "  print(wr.shape)\n",
        "\n",
        "  # compute whr = DO(BN(h_n x_1 wr))\n",
        "  wr = wr.view(-1, ent_num, ent_num)\n",
        "  print(wr.shape)\n",
        "  print(h.shape)\n",
        "  whr = (h @ wr)\n",
        "\n",
        "  # Compute whr x_3 t\n",
        "  tensor = whr * t\n",
        "  scores = torch.sum(whr * t, dim=-1)\n",
        "  return tensor, scores"
      ],
      "metadata": {
        "id": "Z_hbOSu4GHAb"
      },
      "execution_count": null,
      "outputs": []
    },
    {
      "cell_type": "code",
      "source": [
        "tensor, scores = tucker_decomp(W, X, E, X, d_e, d_r)\n",
        "tensor.shape"
      ],
      "metadata": {
        "colab": {
          "base_uri": "https://localhost:8080/"
        },
        "id": "1NJQ9Gt-FCYq",
        "outputId": "eb1f1cd5-756f-4c1a-f491-6283d00f9e46"
      },
      "execution_count": null,
      "outputs": [
        {
          "output_type": "stream",
          "name": "stdout",
          "text": [
            "torch.Size([1, 10, 20, 10]) torch.Size([6, 1, 1, 20])\n",
            "torch.Size([6, 10, 1, 10])\n",
            "torch.Size([6, 10, 10])\n",
            "torch.Size([6, 10])\n"
          ]
        },
        {
          "output_type": "execute_result",
          "data": {
            "text/plain": [
              "torch.Size([6, 6, 10])"
            ]
          },
          "metadata": {},
          "execution_count": 57
        }
      ]
    },
    {
      "cell_type": "code",
      "source": [
        "scores.shape"
      ],
      "metadata": {
        "colab": {
          "base_uri": "https://localhost:8080/"
        },
        "id": "UL86IH28Gule",
        "outputId": "cfb886ce-e248-4239-d1c1-c96e4b62f0b2"
      },
      "execution_count": null,
      "outputs": [
        {
          "output_type": "execute_result",
          "data": {
            "text/plain": [
              "torch.Size([5, 3])"
            ]
          },
          "metadata": {},
          "execution_count": 40
        }
      ]
    },
    {
      "cell_type": "code",
      "source": [
        "def score(W, X, E, d_e, d_r):\n",
        "  lhs = X\n",
        "  rel = E\n",
        "  rhs = X\n",
        "  print(W.transpose(0, 2).shape, lhs.transpose(0, 1).shape)\n",
        "  lhs_proj = torch.matmul(W.transpose(0, 2), lhs.transpose(0, 1)).transpose(0, 2) # b, rank_r, rank_e\n",
        "  print(lhs_proj.shape)\n",
        "  rel_proj = rel.view(-1, 1, d_r)\n",
        "  print(rel_proj.shape)\n",
        "  lhs_proj = torch.bmm(rel_proj, lhs_proj).view(-1, d_e)\n",
        "  return torch.sum(lhs_proj * rhs, 1, keepdim=True)\n",
        "\n",
        "score(W, X, E, d_e, d_r).shape"
      ],
      "metadata": {
        "colab": {
          "base_uri": "https://localhost:8080/"
        },
        "id": "dKnRdxKsKHTQ",
        "outputId": "31032475-d9e3-4e9d-cab2-dafc214bb0be"
      },
      "execution_count": null,
      "outputs": [
        {
          "output_type": "stream",
          "name": "stdout",
          "text": [
            "torch.Size([10, 20, 10]) torch.Size([10, 6])\n",
            "torch.Size([6, 20, 10])\n",
            "torch.Size([6, 1, 20])\n"
          ]
        },
        {
          "output_type": "execute_result",
          "data": {
            "text/plain": [
              "torch.Size([6, 1])"
            ]
          },
          "metadata": {},
          "execution_count": 52
        }
      ]
    },
    {
      "cell_type": "code",
      "source": [
        "W.shape[1]"
      ],
      "metadata": {
        "colab": {
          "base_uri": "https://localhost:8080/"
        },
        "id": "taTgqgGXOCQl",
        "outputId": "24a1be7e-b817-4273-a96b-39f4b014a528"
      },
      "execution_count": null,
      "outputs": [
        {
          "output_type": "execute_result",
          "data": {
            "text/plain": [
              "20"
            ]
          },
          "metadata": {},
          "execution_count": 61
        }
      ]
    },
    {
      "cell_type": "code",
      "source": [
        "def p_mode_tensor_mat(Tsr, Mtx, p):\n",
        "  Kp = Tsr.shape[p-1]\n",
        "  K = Mtx.shape[0]\n",
        "  # Tsr K1 x K2 x Kp x ... x Kn; Mtx K x Kp\n",
        "\n",
        "  for i in range(K):\n",
        "    print(i)"
      ],
      "metadata": {
        "id": "JRVG_lNaK4DY"
      },
      "execution_count": null,
      "outputs": []
    },
    {
      "cell_type": "code",
      "source": [
        "def mode_n_product(x, m, mode):\n",
        "  x = np.asarray(x)\n",
        "  m = np.asarray(m)\n",
        "  if mode <= 0 or mode % 1 != 0:\n",
        "    raise ValueError('`mode` must be a positive interger')\n",
        "  if x.ndim < mode:\n",
        "    raise ValueError('Invalid shape of X for mode = {}: {}'.format(mode, x.shape))\n",
        "  if m.ndim != 2:\n",
        "    raise ValueError('Invalid shape of M: {}'.format(m.shape))\n",
        "  return np.swapaxes(np.swapaxes(x, mode - 1, -1).dot(m.T), mode - 1, -1)"
      ],
      "metadata": {
        "id": "8CSOCnNHOTvP"
      },
      "execution_count": null,
      "outputs": []
    },
    {
      "cell_type": "code",
      "source": [
        "import torch\n",
        "\n",
        "def mode_n_product(x, m, mode):\n",
        "    if mode <= 0 or mode % 1 != 0:\n",
        "        raise ValueError('`mode` must be a positive integer')\n",
        "    if x.ndim < mode:\n",
        "        raise ValueError('Invalid shape of X for mode = {}: {}'.format(mode, x.shape))\n",
        "    if m.ndim != 2:\n",
        "        raise ValueError('Invalid shape of M: {}'.format(m.shape))\n",
        "    return torch.transpose(torch.transpose(x, mode - 1, -1).matmul(m.T), mode - 1, -1)\n"
      ],
      "metadata": {
        "id": "IcwcQMxEuF_5"
      },
      "execution_count": null,
      "outputs": []
    },
    {
      "cell_type": "code",
      "source": [
        "N_e = 6\n",
        "N_r = 10\n",
        "emb_size = 100\n",
        "W = torch.randint(10, (N_e, N_r, N_e))\n",
        "X = torch.randint(5, (emb_size, N_e))\n",
        "E = torch.randint(3, (emb_size, N_r))"
      ],
      "metadata": {
        "id": "XcqlC7vFuKXv"
      },
      "execution_count": null,
      "outputs": []
    },
    {
      "cell_type": "code",
      "source": [
        "X1 = mode_n_product(W, X, 1)\n",
        "X2 = mode_n_product(X1, E, 2)\n",
        "X3 = mode_n_product(X2, X, 3)\n",
        "\n",
        "X3.shape"
      ],
      "metadata": {
        "colab": {
          "base_uri": "https://localhost:8080/"
        },
        "id": "h0iKtdMtuLLi",
        "outputId": "76178a0c-1a2f-4d09-807c-c5fde1611d34"
      },
      "execution_count": null,
      "outputs": [
        {
          "output_type": "execute_result",
          "data": {
            "text/plain": [
              "torch.Size([100, 100, 100])"
            ]
          },
          "metadata": {},
          "execution_count": 6
        }
      ]
    },
    {
      "cell_type": "code",
      "source": [
        "smooth = 0\n",
        "for i in range(N_e):\n",
        "  for j in range(N_r):\n",
        "    for k in range(N_e):\n",
        "      smooth += torch.sum(W[i,j,k] * X[:,i]* E[:,j] * X[:,k])\n",
        "\n",
        "smooth"
      ],
      "metadata": {
        "colab": {
          "base_uri": "https://localhost:8080/"
        },
        "id": "MFUmCPEvumSX",
        "outputId": "c0459ad3-4cde-475b-dab8-1fb07a53198a"
      },
      "execution_count": null,
      "outputs": [
        {
          "output_type": "execute_result",
          "data": {
            "text/plain": [
              "tensor(707375)"
            ]
          },
          "metadata": {},
          "execution_count": 7
        }
      ]
    },
    {
      "cell_type": "code",
      "source": [
        "dig = 0\n",
        "for i in range(emb_size):\n",
        "  dig += X3[i,i,i]\n",
        "\n",
        "dig"
      ],
      "metadata": {
        "id": "kG5v5BVZusYJ",
        "outputId": "f65f9c2a-93d1-4168-ac72-d63f2c62f2c7",
        "colab": {
          "base_uri": "https://localhost:8080/"
        }
      },
      "execution_count": null,
      "outputs": [
        {
          "output_type": "execute_result",
          "data": {
            "text/plain": [
              "tensor(707375)"
            ]
          },
          "metadata": {},
          "execution_count": 8
        }
      ]
    },
    {
      "cell_type": "code",
      "source": [],
      "metadata": {
        "id": "xUqWokncujRo"
      },
      "execution_count": null,
      "outputs": []
    },
    {
      "cell_type": "code",
      "source": [
        "X1 = mode_n_product(W, X, 1)"
      ],
      "metadata": {
        "id": "ZhtQ9a0hPlDp"
      },
      "execution_count": null,
      "outputs": []
    },
    {
      "cell_type": "code",
      "source": [
        "X2 = mode_n_product(X1, E, 2)"
      ],
      "metadata": {
        "id": "Dow8FjyzPoAT"
      },
      "execution_count": null,
      "outputs": []
    },
    {
      "cell_type": "code",
      "source": [
        "X3 = mode_n_product(X2, X, 3)"
      ],
      "metadata": {
        "id": "S4QW2gmSP5uL"
      },
      "execution_count": null,
      "outputs": []
    },
    {
      "cell_type": "code",
      "source": [
        "X3.shape"
      ],
      "metadata": {
        "colab": {
          "base_uri": "https://localhost:8080/"
        },
        "id": "27NlSdrlP9FG",
        "outputId": "59ff10d4-56e0-478d-b1a9-e026bf2b43e1"
      },
      "execution_count": null,
      "outputs": [
        {
          "output_type": "execute_result",
          "data": {
            "text/plain": [
              "(6, 6, 6)"
            ]
          },
          "metadata": {},
          "execution_count": 79
        }
      ]
    },
    {
      "cell_type": "code",
      "source": [
        "N_e = 6\n",
        "N_r = 10\n",
        "emb_size = 100\n",
        "W = torch.randint(10, (N_e, N_r, N_e))\n",
        "X = torch.randint(5, (emb_size, N_e))\n",
        "E = torch.randint(3, (emb_size, N_r))"
      ],
      "metadata": {
        "id": "BGadqoZpP_Xc"
      },
      "execution_count": null,
      "outputs": []
    },
    {
      "cell_type": "code",
      "source": [
        "X1 = mode_n_product(W, X, 1)\n",
        "X2 = mode_n_product(X1, E, 2)\n",
        "X3 = mode_n_product(X2, X, 3)\n",
        "\n",
        "X3.shape"
      ],
      "metadata": {
        "colab": {
          "base_uri": "https://localhost:8080/"
        },
        "id": "gLWBtIf8QSA4",
        "outputId": "ff29995f-9280-4372-e4f1-6afae94c857b"
      },
      "execution_count": null,
      "outputs": [
        {
          "output_type": "execute_result",
          "data": {
            "text/plain": [
              "(100, 100, 100)"
            ]
          },
          "metadata": {},
          "execution_count": 83
        }
      ]
    },
    {
      "cell_type": "code",
      "source": [
        "dig = 0\n",
        "for i in range(emb_size):\n",
        "  dig += X3[i,i,i]\n",
        "\n",
        "dig"
      ],
      "metadata": {
        "colab": {
          "base_uri": "https://localhost:8080/"
        },
        "id": "GiVwmR0dQVkR",
        "outputId": "738b53fd-ad4c-47d4-d18e-f7805f10ba4b"
      },
      "execution_count": null,
      "outputs": [
        {
          "output_type": "execute_result",
          "data": {
            "text/plain": [
              "752439"
            ]
          },
          "metadata": {},
          "execution_count": 85
        }
      ]
    },
    {
      "cell_type": "code",
      "source": [
        "X[1].shape\n",
        "E[3].shape"
      ],
      "metadata": {
        "colab": {
          "base_uri": "https://localhost:8080/"
        },
        "id": "AYJOZdQoRbA0",
        "outputId": "3d8d7047-cd08-43d2-aecc-1c16d1b86db2"
      },
      "execution_count": null,
      "outputs": [
        {
          "output_type": "execute_result",
          "data": {
            "text/plain": [
              "torch.Size([10])"
            ]
          },
          "metadata": {},
          "execution_count": 92
        }
      ]
    },
    {
      "cell_type": "code",
      "source": [
        "W[1,3,2]"
      ],
      "metadata": {
        "colab": {
          "base_uri": "https://localhost:8080/"
        },
        "id": "flvm_R_ERY6_",
        "outputId": "ffe3775e-10db-4f21-9e93-5d7c5bbf1645"
      },
      "execution_count": null,
      "outputs": [
        {
          "output_type": "execute_result",
          "data": {
            "text/plain": [
              "tensor(0)"
            ]
          },
          "metadata": {},
          "execution_count": 87
        }
      ]
    },
    {
      "cell_type": "code",
      "source": [
        "W[1,3,2] * X[:,1]* E[:,3] * X[:,4]"
      ],
      "metadata": {
        "colab": {
          "base_uri": "https://localhost:8080/"
        },
        "id": "qkU5F6WyRTQ1",
        "outputId": "94a1b504-1fb2-40c2-d826-0988a5bafb69"
      },
      "execution_count": null,
      "outputs": [
        {
          "output_type": "execute_result",
          "data": {
            "text/plain": [
              "tensor([ 9,  0,  6,  0,  0,  0,  0, 16,  0,  4,  0,  0,  0,  0, 32,  0,  0, 18,\n",
              "         4,  6,  2, 16,  0, 18, 16,  0,  0,  0,  8,  3,  0,  0,  0,  0,  9,  0,\n",
              "         0,  4,  0,  0,  8,  4,  2,  0, 16,  3,  4,  8,  8, 16,  0,  0,  0,  0,\n",
              "         0,  0,  9,  3,  0,  8,  0, 16,  2,  6,  0,  0,  0,  4,  0,  0,  0,  0,\n",
              "         6, 12, 32, 18,  0, 24, 16,  0,  0,  0, 12,  0,  0, 24,  0,  8,  0,  0,\n",
              "         0,  0, 16,  0,  0, 12,  0,  0,  0,  0])"
            ]
          },
          "metadata": {},
          "execution_count": 94
        }
      ]
    },
    {
      "cell_type": "code",
      "source": [
        "smooth = 0\n",
        "for i in range(N_e):\n",
        "  for j in range(N_r):\n",
        "    for k in range(N_e):\n",
        "      smooth += torch.sum(W[i,j,k] * X[:,i]* E[:,j] * X[:,k])\n",
        "\n",
        "smooth"
      ],
      "metadata": {
        "colab": {
          "base_uri": "https://localhost:8080/"
        },
        "id": "K0l724d9Qrvj",
        "outputId": "13d02008-508a-4f9e-b38b-872fd8daf262"
      },
      "execution_count": null,
      "outputs": [
        {
          "output_type": "execute_result",
          "data": {
            "text/plain": [
              "tensor(752439)"
            ]
          },
          "metadata": {},
          "execution_count": 96
        }
      ]
    },
    {
      "cell_type": "code",
      "source": [],
      "metadata": {
        "id": "uGbFej-eRsOk"
      },
      "execution_count": null,
      "outputs": []
    }
  ]
}